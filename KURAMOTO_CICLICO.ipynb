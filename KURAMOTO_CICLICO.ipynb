{
 "cells": [
  {
   "cell_type": "markdown",
   "id": "39097f0c",
   "metadata": {},
   "source": [
    "# Kuramoto-Shinomoto-Sakaguchi MV-SDE \n",
    "## Osservazione Output"
   ]
  },
  {
   "cell_type": "markdown",
   "id": "dd98ef24",
   "metadata": {},
   "source": [
    "In primis importiamo i pacchetti necessari per usare le funzioni matematiche in python."
   ]
  },
  {
   "cell_type": "code",
   "execution_count": 1,
   "id": "e25496e9",
   "metadata": {},
   "outputs": [],
   "source": [
    "import math\n",
    "import numpy as np\n",
    "import matplotlib.pyplot as plt\n",
    "import time"
   ]
  },
  {
   "cell_type": "markdown",
   "id": "23e4aa72",
   "metadata": {},
   "source": [
    "Scriviamo la MV-SDE relativa al modello di Kuramoto-Shninomoto-Sakaguchi:\n",
    "\n",
    "$$ dX_t = \\left( \\mathbb{E}[sen(X_t)] cos(X_t) - \\mathbb{E}[cos(X_t)]sen(X_t) \\right) dt + \\sigma dW_t , \\ \\ \\ X_0=x_0. $$"
   ]
  },
  {
   "cell_type": "markdown",
   "id": "18d08153",
   "metadata": {},
   "source": [
    "Da questa equazione differenziale si evince che:\n",
    "* K = 3, d = 1 e q = 1,\n",
    "* $\\varphi(x)=(1, senx, cosx)$, \n",
    "* $\\alpha(t,x)=(0, cosx, -senx)^T$, \n",
    "* $\\beta(t,x)=(\\sigma, 0, 0)^T$."
   ]
  },
  {
   "cell_type": "markdown",
   "id": "e7af779d",
   "metadata": {},
   "source": [
    "Siamo pronti per definire la prima funzione che applica il Metodo di Eulero a un vettore X preso in input, assieme alle costanti $c_1$ e $c_2$, il valore della parte diffusiva $\\sigma$ , il numero di simulazioni M e il valore dello step temporale h.\n",
    "<a id=\"eulero\"></a>"
   ]
  },
  {
   "cell_type": "code",
   "execution_count": 2,
   "id": "2efad7d9",
   "metadata": {},
   "outputs": [],
   "source": [
    "def eulero(c1, c2, sigma, h, M, X):\n",
    "    W = np.random.normal(0, 1, M) \n",
    "    drift = c1 * np.cos(X) - c2 * np.sin(X) \n",
    "    diffusione = sigma \n",
    "    X = X + drift * h + diffusione * math.sqrt(h) * W \n",
    "    \n",
    "    return X"
   ]
  },
  {
   "cell_type": "markdown",
   "id": "594c278d",
   "metadata": {},
   "source": [
    "Ora definiamo la funzione che calcola la media degli M valori di un vettore preso in input. \n",
    "<a id=\"average\"></a>"
   ]
  },
  {
   "cell_type": "code",
   "execution_count": 3,
   "id": "94c40423",
   "metadata": {},
   "outputs": [],
   "source": [
    "def average(Y):\n",
    "    num = Y.size\n",
    "    X = sum(Y) / num\n",
    "    return X"
   ]
  },
  {
   "cell_type": "markdown",
   "id": "0f1197e1",
   "metadata": {},
   "source": [
    "Scriviamo la funzione pricipale che implementa il metodo Monte Carlo. Essa calcola il valore h di ogni step e il vettore di valori iniziali, dopodichè richiama ciclicamente il Metodo di Eulero sopra definito, per ogni step temporale.\n",
    "<a id=\"montecarlo\"></a>"
   ]
  },
  {
   "cell_type": "code",
   "execution_count": 4,
   "id": "3f8e7c70",
   "metadata": {},
   "outputs": [],
   "source": [
    "def monte_carlo(c1, c2, a1, a2, sigma, T, N, M, X0):\n",
    "    h = T / N\n",
    "    X = X0 * np.ones(M)\n",
    "    gamma1 = [average(np.sin(X))]\n",
    "    gamma2 = [average(np.cos(X))]\n",
    "    \n",
    "    for i in range(N):\n",
    "        X = eulero(c1 + a1 * gamma1[-1], c2 + a2 * gamma2[-1], sigma, h, M, X)\n",
    "        gamma1.append(average(np.sin(X)))\n",
    "        gamma2.append(average(np.cos(X)))\n",
    "    \n",
    "    return X, np.array(gamma1), np.array(gamma2) "
   ]
  },
  {
   "cell_type": "markdown",
   "id": "3c04ab48",
   "metadata": {},
   "source": [
    "Concludiamo riportando il main che richiama le funzioni sopra definite. Ricordiamo a cosa corrisponderanno i valori che daremo in input alle funzioni che richiameremo:\n",
    "* N : numero di iterazioni (steps temporali),\n",
    "* M : numero di simulazioni in ogni istante,\n",
    "* T : istante finale,\n",
    "* $\\mu$ : funzione di Drift,\n",
    "* $\\sigma$ : funzione di Diffuzione,\n",
    "* h : step temporale,\n",
    "* $X_0$ : dato iniziale."
   ]
  },
  {
   "cell_type": "markdown",
   "id": "8b5a8781",
   "metadata": {},
   "source": [
    "## Confornto tempi Markoviane e McKean-Vlasov"
   ]
  },
  {
   "cell_type": "markdown",
   "id": "216969fe",
   "metadata": {},
   "source": [
    "Scriviamo la stessa funzione nel caso in cui trattiamo SDEs Markoviane. La funzione precedente è costriuita in modo da poter trattare anche questo tipo di SDES. La ridefiniamo comunque per poter controllare che i calcoli di gamma1 e gamma2 (superflui in questo caso) non affliggano troppo il tempo di esecuzione del metodo."
   ]
  },
  {
   "cell_type": "code",
   "execution_count": 5,
   "id": "c1f5fb98",
   "metadata": {},
   "outputs": [],
   "source": [
    "def monte_carlo_ridotto(c1, c2, sigma, T, N, M, X0):\n",
    "    h = T / N\n",
    "    X = X0 * np.ones(M)\n",
    "    \n",
    "    for i in range(N):\n",
    "        X = eulero(c1, c2, sigma, h, M, X)\n",
    "    \n",
    "    return X"
   ]
  },
  {
   "cell_type": "markdown",
   "id": "8e0d5222",
   "metadata": {},
   "source": [
    "Ora vediamo il main che confronta i tempi di esecuzione dei due metodi: 1) entrambi con SDE Markoviana e 2) il primo con SDE Markoviana e il secondo con SDE di McKean-Vlasov"
   ]
  },
  {
   "cell_type": "code",
   "execution_count": 6,
   "id": "76c86361",
   "metadata": {},
   "outputs": [
    {
     "name": "stdout",
     "output_type": "stream",
     "text": [
      "Tempo di esecuzione SDE Markoviana con algoritmo completo:  62.609375\n",
      "Tempo di esecuzione SDE McKean-Vlasov con algoritmo completo:  61.390625\n",
      "Tempo di esecuzione SDE Markoviana con algoritmo ridotto:  15.359375\n"
     ]
    }
   ],
   "source": [
    "if __name__ == \"__main__\":\n",
    "    \n",
    "    # Parametri in Input\n",
    "    c1 = 0\n",
    "    c2 = 0\n",
    "    a1 = 1\n",
    "    a2 = 1\n",
    "    \n",
    "    sigma = 0.5\n",
    "    \n",
    "    T = 1\n",
    "    N = 100\n",
    "    M = 1000000\n",
    "    X0 = 0\n",
    "    \n",
    "    start = time.process_time()   # parte il cronometro\n",
    "    X1, gamma11, gamma21 = monte_carlo(c1, c2, 0, 0, sigma, T, N, M, X0)\n",
    "    end = time.process_time()   # si ferma il cronometro\n",
    "    \n",
    "    print(\"Tempo di esecuzione SDE Markoviana con algoritmo completo: \", end - start)\n",
    "    \n",
    "    start = time.process_time()   # parte il cronometro\n",
    "    X2, gamma12, gamma22 = monte_carlo(0, 0, a1, a2, sigma, T, N, M, X0)\n",
    "    end = time.process_time()   # si ferma il cronometro\n",
    "    \n",
    "    print(\"Tempo di esecuzione SDE McKean-Vlasov con algoritmo completo: \", end - start)\n",
    "    \n",
    "    start = time.process_time()   # parte il cronometro\n",
    "    X3 = monte_carlo_ridotto(c1, c2, sigma, T, N, M, X0)\n",
    "    end = time.process_time()   # si ferma il cronometro\n",
    "    \n",
    "    print(\"Tempo di esecuzione SDE Markoviana con algoritmo ridotto: \", end - start)"
   ]
  },
  {
   "cell_type": "markdown",
   "id": "2428cccd",
   "metadata": {},
   "source": [
    "Osservazioni: \n",
    "* stranamente il secondo caso è sempre di poco più veloce del primo\n",
    "* l'ultimo ci mette circa un quarto del tempo degli altri due !!! =(\n",
    "* i due punti precedenti valgono nel caso c1=1, se c1=0 il secondo è poco più lento e entrambi sono circa sei volte il terzo\n",
    "* se si aumenta N da 1000 a 10000, i tempi di esecuzione si moltiplicano di un fattore 10\n",
    "* se si aumenta M da 10000 a 100000, il caso è analogo al precedente"
   ]
  },
  {
   "cell_type": "code",
   "execution_count": 7,
   "id": "9a33fdb6",
   "metadata": {},
   "outputs": [
    {
     "name": "stdout",
     "output_type": "stream",
     "text": [
      "Confronto E[sen(XT)] ottenuto dai due algoritmi\n",
      "M-SDE con algoritmo completo : -0.00015045384580331342\n",
      "MKV-SDE con algoritmo completo : 0.00030922526973028514\n",
      "M-SDE con algoritmo ridotto : -0.00045226913472393913\n"
     ]
    }
   ],
   "source": [
    "    print(\"Confronto E[sen(XT)] ottenuto dai due algoritmi\") \n",
    "    print('M-SDE con algoritmo completo :', gamma11[-1])\n",
    "    print('MKV-SDE con algoritmo completo :', gamma12[-1])\n",
    "    print('M-SDE con algoritmo ridotto :', average(np.sin(X3)))"
   ]
  },
  {
   "cell_type": "markdown",
   "id": "d459550c",
   "metadata": {},
   "source": [
    "## Osservazione cambiamento di M"
   ]
  },
  {
   "cell_type": "markdown",
   "id": "242b9e61",
   "metadata": {},
   "source": [
    "Precisiamo anche il ruolo che le quattro costanti $c_1, \\  c_2, \\ a_1$ e $a_2$ hanno all'interno del programma. Esse infatti servono per rendere il metodo applicabile sia al caso di MV-SDE che a quello di SDE Markoviane. Infatti i coefficienti $a_1$ e $a_2$ possono annullare il contributo dipendente dal valore atteso,  all'interno dell'equazione.\n",
    "<a id=\"main\"></a>"
   ]
  },
  {
   "cell_type": "code",
   "execution_count": 24,
   "id": "8e9e0122",
   "metadata": {
    "scrolled": true
   },
   "outputs": [],
   "source": [
    "if __name__ == \"__main__\":\n",
    "    \n",
    "    # Parametri in Input\n",
    "    c1 = 0\n",
    "    c2 = 0\n",
    "    a1 = 1\n",
    "    a2 = 1\n",
    "\n",
    "    sigma = 0.5\n",
    "\n",
    "    T = 1\n",
    "    N = 100\n",
    "    M = 1000000\n",
    "    X0 = 0.5\n",
    "    \n",
    "    # Parametri Output che mostreremo graficamente\n",
    "    crono = []\n",
    "    Gamma1 = []\n",
    "    Gamma2 = []"
   ]
  },
  {
   "cell_type": "markdown",
   "id": "461412f9",
   "metadata": {},
   "source": [
    "Primo ciclo in cui vediamo come cambiano $\\mathbb{E}[sen(X)]$, $\\mathbb{E}[cos(X)]$ e il tempo di esecuzione tenendo N fisso e aumentando il valore M del numero di simulazioni."
   ]
  },
  {
   "cell_type": "code",
   "execution_count": 17,
   "id": "b01f7a23",
   "metadata": {},
   "outputs": [
    {
     "name": "stdout",
     "output_type": "stream",
     "text": [
      " Risultati al variare di M da  1000000  a  1000000  con c1= 0  c2= 0  a1= 1  a2= 1  T= 1  N= 100\n",
      "Tempo di esecuzione con M= 1000000  :  63.1875\n"
     ]
    }
   ],
   "source": [
    "    M = range(M, M + int(M/10), int(M/10))\n",
    "    \n",
    "    print(\" Risultati al variare di M da \", M[0], \" a \", M[-1], \" con c1=\", c1, \" c2=\", c2, \" a1=\", a1, \" a2=\", a2, \" T=\", T, \" N=\", N)\n",
    "    \n",
    "    for i in M:\n",
    "        start = time.process_time()   # parte il cronometro\n",
    "        X, g1, g2 = monte_carlo(c1, c2, a1, a2, sigma, T, N, i, X0)\n",
    "        end = time.process_time()   # si ferma il cronometro\n",
    "        \n",
    "        crono.append(end - start)\n",
    "        Gamma1.append(g1)\n",
    "        Gamma2.append(g2)\n",
    "        \n",
    "        print(\"Tempo di esecuzione con M=\", i, \" : \", crono[-1])"
   ]
  },
  {
   "cell_type": "markdown",
   "id": "9be1965b",
   "metadata": {},
   "source": [
    "Grafico di $\\mathbb{E}[sen(X)]$."
   ]
  },
  {
   "cell_type": "code",
   "execution_count": 18,
   "id": "c6e92fd0",
   "metadata": {},
   "outputs": [
    {
     "data": {
      "image/png": "[encoded data removed]",
      "text/plain": [
       "<Figure size 640x480 with 1 Axes>"
      ]
     },
     "metadata": {},
     "output_type": "display_data"
    }
   ],
   "source": [
    "    fig1 = plt.figure() \n",
    "    plt.title(\"E[sen(X)] al variare di M\") \n",
    "    plt.xlabel(\"Step temporali\") \n",
    "    plt.ylabel(\"Evoluzione di gamma1\") \n",
    "    # plt.ylim(-1,1) # se non c'è il grafico è molto zoomato\n",
    "    for i in Gamma1:\n",
    "        plt.plot(i)\n",
    "    plt.show()"
   ]
  },
  {
   "cell_type": "markdown",
   "id": "89103bc4",
   "metadata": {},
   "source": [
    "Grafico di $\\mathbb{E}[cos(X)]$."
   ]
  },
  {
   "cell_type": "code",
   "execution_count": 19,
   "id": "af26cb0d",
   "metadata": {},
   "outputs": [
    {
     "data": {
      "image/png": "[encoded data removed]",
      "text/plain": [
       "<Figure size 640x480 with 1 Axes>"
      ]
     },
     "metadata": {},
     "output_type": "display_data"
    }
   ],
   "source": [
    "    fig2 = plt.figure() \n",
    "    plt.title(\"E[cos(X)] al variare di M\") \n",
    "    plt.xlabel(\"Step temporali\") \n",
    "    plt.ylabel(\"Evoluzione di gamma2\") \n",
    "    # plt.ylim(-1,1)   # Se non c'è il grafico è molto zoomato\n",
    "    for i in Gamma2:\n",
    "        plt.plot(i)\n",
    "    plt.show()"
   ]
  },
  {
   "cell_type": "markdown",
   "id": "7ec5328f",
   "metadata": {},
   "source": [
    "Andamento del tempo di esecuzione."
   ]
  },
  {
   "cell_type": "code",
   "execution_count": 20,
   "id": "be58819e",
   "metadata": {},
   "outputs": [
    {
     "data": {
      "image/png": "[encoded data removed]",
      "text/plain": [
       "<Figure size 640x480 with 1 Axes>"
      ]
     },
     "metadata": {},
     "output_type": "display_data"
    }
   ],
   "source": [
    "    fig3 = plt.figure() \n",
    "    plt.title(\"Tempo di esecuzione al variare di M\") \n",
    "    plt.xlabel(\"valore di M\") \n",
    "    plt.ylabel(\"secondi\") \n",
    "    plt.plot(M, crono)\n",
    "    plt.show()"
   ]
  },
  {
   "cell_type": "markdown",
   "id": "00c35eac",
   "metadata": {},
   "source": [
    "Osservazioni:\n",
    "* su piccola scala gli errori sono molto grandi,\n",
    "* se mettiamo c1=1 gli output coincidiono anche su piccola scala, in TUTTI gli altri casi no"
   ]
  },
  {
   "cell_type": "markdown",
   "id": "a9050923",
   "metadata": {},
   "source": [
    "OSSERVAZIONI: con M più piccolo di 1 mln il grafico dei valori attesi ha un grandissimo errore relativo (ma molto piccolo quello assoluto). In particolare i grafico del seno è tutto rumore quando il dato iniziale è 0. Infine con N = 100  si hanno dei tempi accettabili però i grafici sono un poco grezzi."
   ]
  },
  {
   "cell_type": "markdown",
   "id": "ba44dbb3",
   "metadata": {},
   "source": [
    "## Osservazioni cambiamento di N"
   ]
  },
  {
   "cell_type": "markdown",
   "id": "05dda327",
   "metadata": {},
   "source": [
    "Azzeramento di parametri."
   ]
  },
  {
   "cell_type": "code",
   "execution_count": 26,
   "id": "7aa55555",
   "metadata": {},
   "outputs": [],
   "source": [
    "    crono = []\n",
    "    Gamma1 = []\n",
    "    Gamma2 = []\n",
    "    \n",
    "    M = 1000000\n",
    "    N = range(N, N + int(N/10), int(N/10))"
   ]
  },
  {
   "cell_type": "markdown",
   "id": "8e4fabe3",
   "metadata": {},
   "source": [
    "Secondo ciclo in cui vediamo come cambiano $\\mathbb{E}[sen(X)]$, $\\mathbb{E}[cos(X)]$ e il tempo di esecuzione tenendo M fisso e aumentando il valore N degli steps temporali."
   ]
  },
  {
   "cell_type": "code",
   "execution_count": 28,
   "id": "17bae31e",
   "metadata": {},
   "outputs": [
    {
     "name": "stdout",
     "output_type": "stream",
     "text": [
      " Risultati al variare di N da  100  a  100  con c1= 0  c2= 0  a1= 1  a2= 1  T= 1  M= 1000000\n",
      "Tempo di esecuzione con N =  100  :  59.875\n"
     ]
    }
   ],
   "source": [
    "    print(\" Risultati al variare di N da \", N[0], \" a \", N[-1], \" con c1=\", c1, \" c2=\", c2, \" a1=\", a1, \" a2=\", a2, \" T=\", T, \" M=\", M)\n",
    "    \n",
    "    for i in N:\n",
    "        start = time.process_time()   # parte il cronometro\n",
    "        X, g1, g2 = monte_carlo(c1, c2, a1, a2, sigma, T, i, M, X0)\n",
    "        end = time.process_time()   # si ferma il cronometro\n",
    "        \n",
    "        crono.append(end - start)\n",
    "        Gamma1.append(g1)\n",
    "        Gamma2.append(g2)\n",
    "        \n",
    "        print(\"Tempo di esecuzione con N = \", i, \" : \", crono[-1])"
   ]
  },
  {
   "cell_type": "markdown",
   "id": "52dc424c",
   "metadata": {},
   "source": [
    "-- NB: questi grafici sono sbagliati --"
   ]
  },
  {
   "cell_type": "markdown",
   "id": "b1514100",
   "metadata": {},
   "source": [
    "Grafico di $\\mathbb{E}[sen(X)]$."
   ]
  },
  {
   "cell_type": "code",
   "execution_count": 29,
   "id": "70a74518",
   "metadata": {},
   "outputs": [],
   "source": [
    "#    fig4 = plt.figure() \n",
    "#    plt.title(\"E[sen(X)] al variare di N\") \n",
    "#    plt.xlabel(\"Step temporali\") \n",
    "#    plt.ylabel(\"Evoluzione di gamma1\") \n",
    "#    for i in Gamma1:\n",
    "#        plt.plot(i)\n",
    "#    plt.show()"
   ]
  },
  {
   "cell_type": "markdown",
   "id": "84b9804a",
   "metadata": {},
   "source": [
    "Grafico di $\\mathbb{E}[cos(X)]$."
   ]
  },
  {
   "cell_type": "code",
   "execution_count": 30,
   "id": "a160ae2c",
   "metadata": {},
   "outputs": [],
   "source": [
    "#    fig5 = plt.figure() \n",
    "#    plt.title(\"E[cos(X)] al variare di N\") \n",
    "#    plt.xlabel(\"Step temporali\") \n",
    "#    plt.ylabel(\"Evoluzione di gamma2\") \n",
    "#    for i in Gamma2:\n",
    "#        plt.plot(i)\n",
    "#    plt.show()"
   ]
  },
  {
   "cell_type": "markdown",
   "id": "41f0b339",
   "metadata": {},
   "source": [
    "####"
   ]
  },
  {
   "cell_type": "markdown",
   "id": "279a1ba9",
   "metadata": {},
   "source": [
    "Andamento del tempo di esecuzione."
   ]
  },
  {
   "cell_type": "code",
   "execution_count": 31,
   "id": "155bd5de",
   "metadata": {},
   "outputs": [
    {
     "data": {
      "image/png": "[encoded data removed]",
      "text/plain": [
       "<Figure size 640x480 with 1 Axes>"
      ]
     },
     "metadata": {},
     "output_type": "display_data"
    }
   ],
   "source": [
    "    fig6 = plt.figure() \n",
    "    plt.title(\"Tempo di esecuzione al variare di N\") \n",
    "    plt.xlabel(\"valore di N\") \n",
    "    plt.ylabel(\"secondi\") \n",
    "    plt.plot(N, crono)\n",
    "    plt.show()"
   ]
  },
  {
   "cell_type": "markdown",
   "id": "0907f1de",
   "metadata": {},
   "source": [
    "[Vai alla funzione eulero](#eulero)"
   ]
  },
  {
   "cell_type": "markdown",
   "id": "977f9464",
   "metadata": {},
   "source": [
    "[Vai alla funzione average](#average)"
   ]
  },
  {
   "cell_type": "markdown",
   "id": "a7a30db7",
   "metadata": {},
   "source": [
    "[Vai alla funzione monte carlo](#montecarlo)"
   ]
  },
  {
   "cell_type": "markdown",
   "id": "47d3a7c9",
   "metadata": {},
   "source": [
    "[Vai al main](#main)"
   ]
  }
 ],
 "metadata": {
  "kernelspec": {
   "display_name": "Python 3 (ipykernel)",
   "language": "python",
   "name": "python3"
  },
  "language_info": {
   "codemirror_mode": {
    "name": "ipython",
    "version": 3
   },
   "file_extension": ".py",
   "mimetype": "text/x-python",
   "name": "python",
   "nbconvert_exporter": "python",
   "pygments_lexer": "ipython3",
   "version": "3.9.13"
  }
 },
 "nbformat": 4,
 "nbformat_minor": 5
}
