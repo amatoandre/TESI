{
 "cells": [
  {
   "cell_type": "markdown",
   "id": "472ff886",
   "metadata": {},
   "source": [
    "# SDE con Mini Butch per K-S-S MV-SDE semlificata"
   ]
  },
  {
   "cell_type": "markdown",
   "id": "dd98ef24",
   "metadata": {},
   "source": [
    "In primis importiamo i pacchetti necessari per usare le funzioni matematiche in python."
   ]
  },
  {
   "cell_type": "code",
   "execution_count": 1,
   "id": "e25496e9",
   "metadata": {},
   "outputs": [],
   "source": [
    "import math\n",
    "import numpy as np\n",
    "import matplotlib.pyplot as plt\n",
    "import time"
   ]
  },
  {
   "cell_type": "markdown",
   "id": "6967e6a0",
   "metadata": {},
   "source": [
    "Scriviamo la MV-SDE relativa al modello di Kuramoto-Shninomoto-Sakaguchi. Per il momento ci focalizziamo su una versione semplificata, ovvero:\n",
    "\n",
    "$$ dX_t = \\mathbb{E}[sen(X_t)] cos(X_t) dt + \\sigma dW_t , \\ \\ \\ X_0=x_0. $$"
   ]
  },
  {
   "cell_type": "markdown",
   "id": "18d08153",
   "metadata": {},
   "source": [
    "Da questa equazione differenziale si evince che:\n",
    "* K = 1, d = 1 e q = 1,\n",
    "* $\\varphi(x)=senx$, \n",
    "* $\\alpha(t,x)=cosx$, \n",
    "* $\\beta(t,x)=\\sigma$."
   ]
  },
  {
   "cell_type": "markdown",
   "id": "67cca7a8",
   "metadata": {},
   "source": [
    "Notiamo che, restando fedeli alla notazione e alla struttura del metodo Monte Carlo scritto precedentemente, siamo nel caso in cui $a_1=1$ e $a_2=0$. Come nel caso precedente, strutturiamo l'algoritmo in modo tale che abbia prima tutte le funzioni che svolgono il cuore del metodo, per poi richimarle nella parte finale ovvero nel main. Raccogliamo tutte le funzioni in differenti sezioni per poter meglio comprenderne il lavoro. ciò è dato dal fatto che essendo tante funzioni si creerebbe troppa confusione poi nel leggere l'algoritmo."
   ]
  },
  {
   "cell_type": "markdown",
   "id": "d1ff9fa5",
   "metadata": {},
   "source": [
    "## Metodo di Eulero per la Simulazione di $Z(\\xi , W)$"
   ]
  },
  {
   "cell_type": "markdown",
   "id": "e7af779d",
   "metadata": {},
   "source": [
    "Definiamo le due funzioni che ci permettono di simulare $Z(\\xi , W)$, ovvero la soluzione dell'equazione differenziale:\n",
    "\n",
    "$$ dZ_t = \\textbf{h} \\left((\\mathcal{L}a)(t)\\right) \\left( \\alpha(t, Z_t)dt + \\beta(t, Z_t)dW_t\\right), \\ \\ \\ Z_0 = \\xi.$$\n",
    "\n",
    "Ricordiamo che questa equazione corrisponde alla $(13)$ del articolo e alla $(1.6)$ della mia bozza di tesi. "
   ]
  },
  {
   "cell_type": "markdown",
   "id": "cf1dedcc",
   "metadata": {},
   "source": [
    "In questo algoritmo semplificato le mappe $\\textbf{h}$ e $ H $ sono prese rispettivamente come l'identià e la funzione nulla. Riprendendo i valori delle funzioni dei coefficienti per la MV-SDE relativa al modello di Kuramoto-Shninomoto-Sakaguchi semplificata si ottiene che nello specifico l'equazione diventa:\n",
    "\n",
    "$$ dZ_t = (\\mathcal{L}a)(t) cos(Z_t)dt + \\sigma dW_t, \\ \\ \\ Z_0 = \\xi. $$"
   ]
  },
  {
   "cell_type": "markdown",
   "id": "607f629d",
   "metadata": {},
   "source": [
    "Vediamo ora le funzioni. Questa è quella che calcola la media di valori, identica al programma precedente."
   ]
  },
  {
   "cell_type": "code",
   "execution_count": 2,
   "id": "b23a0c0d",
   "metadata": {},
   "outputs": [],
   "source": [
    "def average(Y):\n",
    "    num = Y.size\n",
    "    X = sum(Y) / num\n",
    "    return X"
   ]
  },
  {
   "cell_type": "markdown",
   "id": "49cbfd94",
   "metadata": {},
   "source": [
    "Questa funzione serve per generale il polinomio dato dai coefficienti $(a_0, \\cdots , a_n)$ e calcolato al tempo t. Questa funzione genera il polinomio secondo la base canonica, ma è facilmente estendibile a altre basi di polinomi."
   ]
  },
  {
   "cell_type": "code",
   "execution_count": 3,
   "id": "2a319e34",
   "metadata": {},
   "outputs": [],
   "source": [
    "def L(a, t, tipo):\n",
    "    if tipo == 'canonica':\n",
    "        pol = 0\n",
    "        for i in range(a.size):\n",
    "            pol = pol + a[i] * (t ** i)\n",
    "        return pol\n",
    "    else:\n",
    "        return 'err'"
   ]
  },
  {
   "cell_type": "markdown",
   "id": "a8de5a2a",
   "metadata": {},
   "source": [
    "Questa funzione implementa lo step di eulero al medesimo modo del programma predecente."
   ]
  },
  {
   "cell_type": "code",
   "execution_count": 4,
   "id": "ca80ac0b",
   "metadata": {},
   "outputs": [],
   "source": [
    "def step_eulero_Z(c1, sigma, h, M, X):\n",
    "    W = np.random.normal(0, 1, M) \n",
    "    drift = c1 * np.cos(X) \n",
    "    diffusione = sigma \n",
    "    X = X + drift * h + diffusione * math.sqrt(h) * W \n",
    "    \n",
    "    return X"
   ]
  },
  {
   "cell_type": "markdown",
   "id": "32511a0f",
   "metadata": {},
   "source": [
    "QUesta funzione genera effetivamente la soluzione Z. Inizianizzandola come il valore $Z_0$ che viene passato in input, applica per tutti gli istanti fino all' N-esimo lo step di eulero richiamando la funzine precedente. Notiamo che in ogni passo richiama anche la funzione $L$ per calcolare il polinomio al tempo $t$ che appossima la funzione seno."
   ]
  },
  {
   "cell_type": "code",
   "execution_count": 5,
   "id": "b67727f7",
   "metadata": {},
   "outputs": [],
   "source": [
    "def eulero_Z(a, sigma, T, N, M, Z0):\n",
    "    h = T / N\n",
    "    Z = [Z0 * np.ones(M)]\n",
    "    \n",
    "    for i in range(N):\n",
    "        c1 = L(a, i * h , 'canonica')\n",
    "        Z.append(step_eulero_Z(c1, sigma, h, M, Z[-1]))\n",
    "    \n",
    "    return np.array(Z)"
   ]
  },
  {
   "cell_type": "markdown",
   "id": "beac83f1",
   "metadata": {},
   "source": [
    "## Metodo di Eulero per la Simulazione di $\\left( Z^a(\\tilde{\\xi} , \\tilde{W}), \\partial_{a_{h,j}} Z^a(\\tilde{\\xi} , \\tilde{W}) \\right)$"
   ]
  },
  {
   "cell_type": "markdown",
   "id": "7e62e956",
   "metadata": {},
   "source": [
    "Definiamo le due funzioni che ci permettono di simulare $\\left( Z^a(\\tilde{\\xi} , \\tilde{W}), \\partial_{a_{h,j}} Z^a(\\tilde{\\xi} , \\tilde{W}) \\right)$, ovvero le soluzioni del sistema dato dall'equazione differenziale della sezione precedente e dalla seguente equazione differenziale:\n",
    "\n",
    "$$ dY^{h,j}_t = g_h(t) \\nabla \\textbf{h}_j \\left((\\mathcal{L}a)(t)\\right) \\left( \\alpha(t, Z_t)dt + \\beta(t, Z_t)dW_t\\right) + \\sum_{i=0}^d Y^{h,j,i}_t  \\textbf{h} \\left((\\mathcal{L}a)(t)\\right) \\left( \\partial_{z_i}\\alpha(t, Z_t)dt + \\partial_{z_i}\\beta(t, Z_t)dW_t\\right), \\ \\ \\ Y^{h,j}_0 = 0,$$\n",
    "\n",
    "per $h = 0, \\cdots , n$ e $j = 1, \\cdots, K$.\n",
    "Ricordiamo che questa equazione corrisponde alla $(14)$ dell'articolo e alla $(1.8)$ della mia bozza di tesi. "
   ]
  },
  {
   "cell_type": "markdown",
   "id": "7eab213d",
   "metadata": {},
   "source": [
    "Ricordiamo che in questo algoritmo semplificato le mappe $\\textbf{h}$ e $ H $ sono prese rispettivamente come l'identià e la funzione nulla. Riprendendo i valori delle funzioni dei coefficienti per la MV-SDE relativa al modello di Kuramoto-Shninomoto-Sakaguchi semplificata si ottiene che nello specifico le equazioni diventano:\n",
    "\n",
    "$$ dY^h_t = \\left( t^h cos(Z_t) - Y^h_t (\\mathcal{L}a)(t)sen(Z_t)\\right)dt + \\sigma dW_t, \\ \\ \\ Y^{h,j}_0 = 0,$$\n",
    "per $h = 0, \\cdots , n$."
   ]
  },
  {
   "cell_type": "markdown",
   "id": "594c278d",
   "metadata": {},
   "source": [
    "Scriviamo ora la funzione che, come nel caso precedente, svolge lo step di eulero per trovare la soluzione delle SDEs. In questo caso la funzione dovrà portare avanti 2 processi allo stesso tempo: Z monodimensionale e Y n+1 dimensionale. Inoltre la funzione dovrà usare ogni passo il valore ottenuto per il primo processo per poter calcolare il secondo, partendo dalla stessa realizzazione del browniano."
   ]
  },
  {
   "cell_type": "code",
   "execution_count": 6,
   "id": "94c40423",
   "metadata": {},
   "outputs": [],
   "source": [
    "def step_eulero_Y(c1, sigma, i, n, h, M, ZZ, YY):\n",
    "    W = np.random.normal(0, 1, M) \n",
    "    for j in range(n+1):\n",
    "        drift = ((i * h) ** j) * np.cos(ZZ) - YY[j] * c1 * np.sin(ZZ)\n",
    "        diffusione = sigma \n",
    "        YY[j] = YY[j] + drift * h + diffusione * math.sqrt(h) * W \n",
    "    \n",
    "    ZZ = ZZ + c1 * np.cos(ZZ) * h + sigma * math.sqrt(h) * W\n",
    "    \n",
    "    return ZZ, YY\n"
   ]
  },
  {
   "cell_type": "markdown",
   "id": "0f1197e1",
   "metadata": {},
   "source": [
    "Ora scriviamo la funzione che si occupa di richiamare ciclicamente la preedente e produrre in output le realizzazioni delle due soluzioni cercate."
   ]
  },
  {
   "cell_type": "code",
   "execution_count": 7,
   "id": "3f8e7c70",
   "metadata": {},
   "outputs": [],
   "source": [
    "def eulero_Y(a, sigma, n, T, N, M, Z0):\n",
    "    h = T / N \n",
    "    Z = [Z0 * np.ones(M)]\n",
    "    Y = [np.zeros((n+1, M))]\n",
    "    \n",
    "    ZZ = Z0 * np.ones(M)\n",
    "    YY = np.zeros((n+1, M))\n",
    "    \n",
    "    for i in range(N):\n",
    "        c1 = L(a, i * h , 'canonica')\n",
    "        ZZ, YY = step_eulero_Y(c1, sigma, i, n, h, M, ZZ, YY)\n",
    "        Z.append(ZZ)\n",
    "        Y.append(YY)\n",
    "    \n",
    "    return np.array(Z), np.array(Y)"
   ]
  },
  {
   "cell_type": "markdown",
   "id": "ad7bac12",
   "metadata": {},
   "source": [
    "## Metodo di DIscesa del Gradiente"
   ]
  },
  {
   "cell_type": "markdown",
   "id": "4da5da8f",
   "metadata": {},
   "source": [
    "In questa sezione ci sono le due funzioni cardine del codice. La prima serve a calcolare la realizzazione del gradiente per la discesa stocastica, ovvero la funzione v descritta nella (17) dell'articolo. In generale la scrittura di v, componente per componente, è la seguente:\n",
    "\n",
    "$$v_{h,j}(a; \\xi, W; \\tilde{\\xi}, \\tilde{W}) = 2 \\int_0^T \\langle \\varphi (Z^a_t(\\xi,W)) - \\textbf{h} ((\\mathcal{L}a)(t)), \\nabla_x \\varphi (Z^a_t(\\tilde{\\xi}, \\tilde{W})) Y_t^{a;h,j}(\\tilde{\\xi}, \\tilde{W})) - \\partial_{a_{h,j}}\\textbf{h}((\\mathcal{L})(t))\\rangle dt, $$ \n",
    "con $h = 0, \\cdots , n$ e $j = 1, \\cdots, K$."
   ]
  },
  {
   "cell_type": "markdown",
   "id": "0de3e8a5",
   "metadata": {},
   "source": [
    "Come nei casi precedenti scriviamo questa e quazione nel caso specifico del nostro algoritmo. Avendo suddiviso il tempo in N steps temporali, approssimiamo l'integrale con una sommatoria.\n",
    "\n",
    "$$v_{h,j}(a; \\xi, W; \\tilde{\\xi}, \\tilde{W}) = 2 \\sum_{t=0}^{N \\cdot h} \\left( sen(Z^a_t(\\xi,W)) - ((\\mathcal{L}a)(t)) \\right) \\cdot \\left( cos(Z^a_t(\\tilde{\\xi}, \\tilde{W})) Y_t^{a;h}(\\tilde{\\xi}, \\tilde{W})) - t^h \\right), $$ \n",
    "con $h = 0, \\cdots , n$."
   ]
  },
  {
   "cell_type": "markdown",
   "id": "713e9a7f",
   "metadata": {},
   "source": [
    "Notiamo che prima di restituire il valore v questa fuzione fa una media. Esso serve nel caso M>1 in cui sfruttiamo molteplici simulzioni del browniano per aver una miglior stima di v."
   ]
  },
  {
   "cell_type": "code",
   "execution_count": 8,
   "id": "ecde5727",
   "metadata": {},
   "outputs": [],
   "source": [
    "def gradiente(N, T, Z, Ztilde, Ytilde, a, n, M):\n",
    "    h = T / N\n",
    "    vv = np.zeros((n+1, M))\n",
    "    v = np.zeros(n+1)\n",
    "    for j in range(n+1): \n",
    "        for i in range(N+1):\n",
    "            vv[j] = vv[j] + 2 * ((np.sin(Z[i]) - L(a, i * h, 'canonica')) * (np.cos(Ztilde[i]) * Ytilde[i][j] - (i * h) ** j )) \n",
    "        v[j] = average(vv[j])\n",
    "    return v"
   ]
  },
  {
   "cell_type": "markdown",
   "id": "3f4bae01",
   "metadata": {},
   "source": [
    "La seconda serve semplicemente ad applicare il meodo di discesa. Essa non fa altro che richiamare ciclicamente le precedenti funzioni che generano le soluzoni delle SDEs per ogni istante di tempo e richiamare la funzione gradiente che sfrutta quelle soluzioni per calcolare il valore di v da mettere nel passo del metodo di discesa. Notiamo che tra i paramentri c'è anche M che se lasciato a 1 rende il metodo un classico metodo SGD, ma se portato a $\\infty$ porta a un metodo GD."
   ]
  },
  {
   "cell_type": "code",
   "execution_count": 9,
   "id": "12cfb695",
   "metadata": {},
   "outputs": [],
   "source": [
    "def discesa_stocastica_del_gradiente(a0, n, r0, rho, m, sigma, T, N, M, X0):\n",
    "    a = a0 \n",
    "    for mm in range(m):\n",
    "        eta = r0 / ((mm + 1) ** rho)\n",
    "        \n",
    "        Z = eulero_Z(a, sigma, T, N, M, X0) \n",
    "        Ztilde, Ytilde = eulero_Y(a, sigma, n, T, N, M, X0) \n",
    "        \n",
    "        v = gradiente(N, T, Z, Ztilde, Ytilde, a, n, M) \n",
    "        a = a - eta * v\n",
    "    return a"
   ]
  },
  {
   "cell_type": "markdown",
   "id": "89e00b41",
   "metadata": {},
   "source": [
    "## Main"
   ]
  },
  {
   "cell_type": "markdown",
   "id": "3c04ab48",
   "metadata": {},
   "source": [
    "Concludiamo riportando il main che richiama le funzioni sopra definite. Ricordiamo a cosa corrisponderanno i valori che daremo in input alle funzioni che richiameremo:\n",
    "* N : numero di iterazioni (steps temporali),\n",
    "* M : numero di simulazioni in ogni istante,\n",
    "* T : istante finale,\n",
    "* $\\mu$ : funzione di Drift,\n",
    "* $\\sigma$ : funzione di Diffuzione,\n",
    "* h : step temporale,\n",
    "* $X_0$ : dato iniziale."
   ]
  },
  {
   "cell_type": "markdown",
   "id": "40527834",
   "metadata": {},
   "source": [
    "Richiameremo inoltre:\n",
    "* n: dimensione dello spazio dei polinomi,\n",
    "* $a_0$: valore iniziale del vettore del metodo SGD. Ora è semplificata, poi ci mettiamo Taylor di Kolmogorov di gamma1+gamma2,\n",
    "* $r_0$ e $\\rho$: servono per i learning rates e deve essere 1/2 < $\\rho$ < 1 ,\n",
    "* m: num di step per il mtodo SGD,\n",
    "* M: mini butch tra SGD e GD"
   ]
  },
  {
   "cell_type": "markdown",
   "id": "50c1e927",
   "metadata": {},
   "source": [
    "Ricordiamo inoltre che siamo in un caso semplificato in cui non ci sono le due mappe ausiliarie $H$ e $\\textbf{h}$, ovvero:\n",
    "* H = 0\n",
    "* $\\textbf{h}$ = lambda x: x"
   ]
  },
  {
   "cell_type": "code",
   "execution_count": 30,
   "id": "8e9e0122",
   "metadata": {
    "scrolled": true
   },
   "outputs": [
    {
     "name": "stdout",
     "output_type": "stream",
     "text": [
      "Tempo di esecuzione:  0.015625\n"
     ]
    }
   ],
   "source": [
    "if __name__ == \"__main__\":\n",
    "    \n",
    "    # Parametri in Input vecchi\n",
    "\n",
    "    sigma = 0.5\n",
    "    T = 1\n",
    "    N = 10\n",
    "    M = 1000000\n",
    "    X0 = 0.5\n",
    "\n",
    "    # Parametri in Input nuovi\n",
    "\n",
    "    n = 2   # dimensione dello spazio dei polinomi\n",
    "    # a0 = ( a1 * np.sin(X0) + a2 * np.cos(X0) ) * np.ones(n+1) \n",
    "    a0 = np.sin(X0) * np.ones(n+1) \n",
    "    r0 = 1\n",
    "    rho = 3 / 4  \n",
    "    m = 4\n",
    "    M = 1 \n",
    "    \n",
    "    start = time.process_time()   # parte il cronometro\n",
    "    a = discesa_stocastica_del_gradiente(a0, n, r0, rho, m, sigma, T, N, M, X0)\n",
    "    end = time.process_time()   # si ferma il cronometro\n",
    "    \n",
    "    print(\"Tempo di esecuzione: \", end - start)"
   ]
  },
  {
   "cell_type": "code",
   "execution_count": 31,
   "id": "b01f7a23",
   "metadata": {},
   "outputs": [
    {
     "name": "stdout",
     "output_type": "stream",
     "text": [
      "a =  [-3.31297200e+135 -5.64916765e+135 -5.64916765e+135]\n"
     ]
    }
   ],
   "source": [
    "print(\"a = \", a)"
   ]
  },
  {
   "cell_type": "markdown",
   "id": "beaa389e",
   "metadata": {},
   "source": [
    "Grafico dell'approssimazione di $\\mathbb{E}[sen(X)]$."
   ]
  },
  {
   "cell_type": "code",
   "execution_count": 32,
   "id": "ca21b8a3",
   "metadata": {},
   "outputs": [
    {
     "data": {
      "image/png": "[encoded data removed]",
      "text/plain": [
       "<Figure size 640x480 with 1 Axes>"
      ]
     },
     "metadata": {},
     "output_type": "display_data"
    }
   ],
   "source": [
    "grafico = []\n",
    "for i in range(N+1):\n",
    "    grafico.append(L(a, (T / N) * i, 'canonica'))\n",
    "\n",
    "fig = plt.figure() \n",
    "plt.title(\"SGD [\" + str(m) + \" passi]\") \n",
    "plt.xlabel(\"Step temporali\") \n",
    "plt.ylabel(\"Evoluzione di La\") \n",
    "# plt.ylim(-1,1) # se non c'è il grafico è molto zoomato\n",
    "plt.plot(grafico, label='(La)(t)')\n",
    "plt.legend()\n",
    "plt.show() "
   ]
  },
  {
   "cell_type": "markdown",
   "id": "219c1e5f",
   "metadata": {},
   "source": [
    "OSSERVAZIONI: con m>4 fa calcoli più piccoli dell $\\epsilon$ macchina"
   ]
  }
 ],
 "metadata": {
  "kernelspec": {
   "display_name": "Python 3 (ipykernel)",
   "language": "python",
   "name": "python3"
  },
  "language_info": {
   "codemirror_mode": {
    "name": "ipython",
    "version": 3
   },
   "file_extension": ".py",
   "mimetype": "text/x-python",
   "name": "python",
   "nbconvert_exporter": "python",
   "pygments_lexer": "ipython3",
   "version": "3.9.13"
  }
 },
 "nbformat": 4,
 "nbformat_minor": 5
}
