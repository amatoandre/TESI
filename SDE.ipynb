{
 "cells": [
  {
   "cell_type": "markdown",
   "id": "472ff886",
   "metadata": {},
   "source": [
    "# SDE con Mini Batch per Kuramoto-Shinomoto-Sakaguchi MV-SDE"
   ]
  },
  {
   "cell_type": "markdown",
   "id": "dd98ef24",
   "metadata": {},
   "source": [
    "In primis importiamo i pacchetti necessari per usare le funzioni matematiche in python."
   ]
  },
  {
   "cell_type": "code",
   "execution_count": 26,
   "id": "e25496e9",
   "metadata": {},
   "outputs": [],
   "source": [
    "import math\n",
    "import numpy as np\n",
    "import matplotlib.pyplot as plt\n",
    "import time"
   ]
  },
  {
   "cell_type": "markdown",
   "id": "6967e6a0",
   "metadata": {},
   "source": [
    "Scriviamo la MV-SDE relativa al modello di Kuramoto-Shninomoto-Sakaguchi, ovvero:\n",
    "\n",
    "$$ dX_t = \\left( \\mathbb{E}[sen(X_t)] cos(X_t) - \\mathbb{E}[cos(X_t)] sen(X_t) \\right) dt + \\sigma dW_t , \\ \\ \\ X_0=x_0. $$"
   ]
  },
  {
   "cell_type": "markdown",
   "id": "18d08153",
   "metadata": {},
   "source": [
    "Da questa equazione differenziale si evince che:\n",
    "* K = 2, d = 1 e q = 1,\n",
    "* $\\varphi(x)=(senx, cosx)$, \n",
    "* $\\alpha(t,x)=(cosx, -senx)^T$, \n",
    "* $\\beta(t,x)=\\sigma$."
   ]
  },
  {
   "cell_type": "markdown",
   "id": "67cca7a8",
   "metadata": {},
   "source": [
    "Notiamo che, restando fedeli alla notazione e alla struttura del metodo Monte Carlo scritto precedentemente, siamo nel caso in cui $a_1=1$ e $a_2=1$. Come nel caso precedente, strutturiamo l'algoritmo in modo tale che abbia prima tutte le funzioni che svolgono il cuore del metodo, per poi richimarle nella parte finale ovvero nel main. Raccogliamo tutte le funzioni in differenti sezioni per poter meglio comprenderne il lavoro. Ciò è dato dal fatto che essendo tante funzioni si creerebbe troppa confusione poi nel leggere l'algoritmo."
   ]
  },
  {
   "cell_type": "markdown",
   "id": "d1ff9fa5",
   "metadata": {},
   "source": [
    "## Metodo di Eulero per la Simulazione di $Z(\\xi , W)$"
   ]
  },
  {
   "cell_type": "markdown",
   "id": "e7af779d",
   "metadata": {},
   "source": [
    "Definiamo le due funzioni che ci permettono di simulare $Z(\\xi , W)$, ovvero la soluzione dell'equazione differenziale:\n",
    "\n",
    "$$ dZ_t = \\textbf{h} \\left((\\mathcal{L}a)(t)\\right) \\left( \\alpha(t, Z_t)dt + \\beta(t, Z_t)dW_t\\right), \\ \\ \\ Z_0 = \\xi.$$\n",
    "\n",
    "Ricordiamo che questa equazione corrisponde alla $(13)$ del articolo e alla $(1.6)$ della mia bozza di tesi. "
   ]
  },
  {
   "cell_type": "markdown",
   "id": "cf1dedcc",
   "metadata": {},
   "source": [
    "In questo algoritmo semplificato le mappe $\\textbf{h}$ e $ H $ sono prese rispettivamente come l'identià e la funzione nulla. Riprendendo i valori delle funzioni dei coefficienti per la MV-SDE relativa al modello di Kuramoto-Shninomoto-Sakaguchi si ottiene che nello specifico l'equazione diventa:\n",
    "\n",
    "$$ dZ_t = \\left( (\\mathcal{L}a)_1(t) cos(Z_t) - (\\mathcal{L}a)_2(t) sen(Z_t) \\right) dt + \\sigma dW_t, \\ \\ \\ Z_0 = X_0. $$"
   ]
  },
  {
   "cell_type": "markdown",
   "id": "607f629d",
   "metadata": {},
   "source": [
    "Vediamo ora le funzioni. Questa è quella che calcola la media di valori, identica al programma precedente."
   ]
  },
  {
   "cell_type": "code",
   "execution_count": 27,
   "id": "b23a0c0d",
   "metadata": {},
   "outputs": [],
   "source": [
    "def average(Y):\n",
    "    num = Y.size\n",
    "    X = sum(Y) / num\n",
    "    return X"
   ]
  },
  {
   "cell_type": "markdown",
   "id": "2b13a353",
   "metadata": {},
   "source": [
    "Questa funzione serve per creare la base dello spazio dei polinomi. Prende in input la dimensione $n$, il tempo $t$ nella quale i vettori della base devono essere calcolati e la tipologia di base scelta. Restituisce un vettore $n+1$ dimensionale che rappresenta gli elementi della base calcolati in $t$."
   ]
  },
  {
   "cell_type": "code",
   "execution_count": 28,
   "id": "ded2911a",
   "metadata": {},
   "outputs": [],
   "source": [
    "def base(T, n, t, tipo):\n",
    "    g = np.ones(n+1)\n",
    "    \n",
    "    if tipo == 'canonica':\n",
    "        for i in range(n+1):\n",
    "            g[i] = t ** i\n",
    "        return g\n",
    "    \n",
    "    elif tipo == 'lagrange':\n",
    "        l = np.linspace(0, T, n+1)\n",
    "        for i in range(n+1):\n",
    "            gg = 1\n",
    "            for j in range(n+1):\n",
    "                if i != j:\n",
    "                    gg = gg * ((t - l[j]) / (l[i] - l[j]))\n",
    "            g[i] = gg\n",
    "        return g \n",
    "        \n",
    "    \n",
    "    else:\n",
    "        return 'err'"
   ]
  },
  {
   "cell_type": "markdown",
   "id": "49cbfd94",
   "metadata": {},
   "source": [
    "Questa funzione serve per generale il polinomio dato dai coefficienti $(a_0, \\cdots , a_n)$ e calcolato al tempo $t$. Questa funzione genera il polinomio secondo la base di polinomi scelta."
   ]
  },
  {
   "cell_type": "code",
   "execution_count": 29,
   "id": "2a319e34",
   "metadata": {},
   "outputs": [],
   "source": [
    "def L(T, a, t, tipo):\n",
    "    g = base(T, a.size-1, t, tipo)\n",
    "    \n",
    "    return np.dot(a, g)"
   ]
  },
  {
   "cell_type": "markdown",
   "id": "a8de5a2a",
   "metadata": {},
   "source": [
    "Questa funzione implementa lo step di eulero al medesimo modo del programma predecente."
   ]
  },
  {
   "cell_type": "code",
   "execution_count": 30,
   "id": "ca80ac0b",
   "metadata": {},
   "outputs": [],
   "source": [
    "def step_eulero_Z(c1, c2, sigma, h, M, X):\n",
    "    W = np.random.normal(0, 1, M) \n",
    "    drift = c1 * np.cos(X) - c2 * np.sin(X)\n",
    "    diffusione = sigma \n",
    "    X = X + drift * h + diffusione * math.sqrt(h) * W \n",
    "    \n",
    "    return X"
   ]
  },
  {
   "cell_type": "markdown",
   "id": "32511a0f",
   "metadata": {},
   "source": [
    "QUesta funzione genera effetivamente la soluzione $Z$. Inizianizzandola come il valore $Z_0$ che viene passato in input, applica per tutti gli istanti fino all' N-esimo lo step di eulero richiamando la funzine precedente. Notiamo che in ogni passo richiama anche la funzione $L$ per calcolare il polinomio al tempo $t$ che appossima le funzioni seno e coseno."
   ]
  },
  {
   "cell_type": "code",
   "execution_count": 31,
   "id": "b67727f7",
   "metadata": {},
   "outputs": [],
   "source": [
    "def eulero_Z(a1, a2, sigma, T, N, M, Z0, tipo):\n",
    "    h = T / N\n",
    "    Z = [Z0 * np.ones(M)]\n",
    "    \n",
    "    for i in range(1, N+1):\n",
    "        c1 = L(T, a1, i * h , tipo)\n",
    "        c2 = L(T, a2, i * h , tipo)\n",
    "        Z.append(step_eulero_Z(c1, c2, sigma, h, M, Z[-1]))\n",
    "    \n",
    "    return np.array(Z)"
   ]
  },
  {
   "cell_type": "markdown",
   "id": "beac83f1",
   "metadata": {},
   "source": [
    "## Metodo di Eulero per la Simulazione di $\\left( Z^a(\\tilde{\\xi} , \\tilde{W}), \\partial_{a_{h,j}} Z^a(\\tilde{\\xi} , \\tilde{W}) \\right)$"
   ]
  },
  {
   "cell_type": "markdown",
   "id": "7e62e956",
   "metadata": {},
   "source": [
    "Definiamo le due funzioni che ci permettono di simulare $\\left( Z^a(\\tilde{\\xi} , \\tilde{W}), \\partial_{a_{h,j}} Z^a(\\tilde{\\xi} , \\tilde{W}) \\right)$, ovvero le soluzioni del sistema dato dall'equazione differenziale della sezione precedente e dalle seguenti equazioni differenziali:\n",
    "\n",
    "$$ dY^{h,j}_t = g_h(t) \\nabla \\textbf{h}_j \\left((\\mathcal{L}a)(t)\\right) \\left( \\alpha(t, Z_t)dt + \\beta(t, Z_t)dW_t\\right) + \\sum_{i=0}^d Y^{h,j,i}_t  \\textbf{h} \\left((\\mathcal{L}a)(t)\\right) \\left( \\partial_{z_i}\\alpha(t, Z_t)dt + \\partial_{z_i}\\beta(t, Z_t)dW_t\\right), \\ \\ \\ Y^{h,j}_0 = 0,$$\n",
    "\n",
    "per $h = 0, \\cdots , n$ e $j = 1, \\cdots, K$.\n",
    "Ricordiamo che questa equazione corrisponde alla $(14)$ dell'articolo e alla $(1.8)$ della mia bozza di tesi. "
   ]
  },
  {
   "cell_type": "markdown",
   "id": "7eab213d",
   "metadata": {},
   "source": [
    "Ripetiamo che in questo algoritmo semplificato le mappe $\\textbf{h}$ e $ H $ sono prese rispettivamente come l'identià e la funzione nulla. Riprendendo i valori delle funzioni dei coefficienti per la MV-SDE relativa al modello di Kuramoto-Shninomoto-Sakaguchi si ottiene che nello specifico le equazioni diventano:\n",
    "\n",
    "$$ dY^{h,1}_t = \\left( g_h(t) cos(Z_t) - Y^{h,1}_t \\left( (\\mathcal{L}a)_1(t)sen(Z_t) + (\\mathcal{L}a)_2(t)cos(Z_t)\\right) \\right)dt + \\sigma dW_t, \\ \\ \\ Y^{h,1}_0 = 0,$$\n",
    "\n",
    "$$ dY^{h,2}_t = \\left( -g_h(t) sen(Z_t) - Y^{h,2}_t \\left( (\\mathcal{L}a)_1(t)sen(Z_t) + (\\mathcal{L}a)_2(t)cos(Z_t)\\right) \\right)dt + \\sigma dW_t, \\ \\ \\ Y^{h,2}_0 = 0,$$\n",
    "per $h = 0, \\cdots , n$."
   ]
  },
  {
   "cell_type": "markdown",
   "id": "594c278d",
   "metadata": {},
   "source": [
    "Scriviamo ora la funzione che, come nel caso precedente, svolge lo step di eulero per trovare la soluzione delle SDEs. In questo caso la funzione dovrà portare avanti 2 processi allo stesso tempo: $Z$ monodimensionale e  le due $Y$ $n+1$ dimensionali. Inoltre la funzione dovrà usare ogni passo il valore ottenuto per il primo processo per poter calcolare il secondo, partendo dalla stessa realizzazione del browniano."
   ]
  },
  {
   "cell_type": "code",
   "execution_count": 32,
   "id": "94c40423",
   "metadata": {},
   "outputs": [],
   "source": [
    "def step_eulero_Y(c1, c2, sigma, T, i, n, h, M, ZZ, YY1, YY2, tipo):\n",
    "    W = np.random.normal(0, 1, M) \n",
    "    for j in range(n+1):\n",
    "        g = base(T, n, i * h, tipo)\n",
    "        \n",
    "        drift1 = g[j] * np.cos(ZZ) - YY1[j] * (c1 * np.sin(ZZ) - c2 * np.cos(ZZ))\n",
    "        diffusione1 = sigma \n",
    "        YY1[j] = YY1[j] + drift1 * h + diffusione1 * math.sqrt(h) * W\n",
    "        \n",
    "        drift2 = -g[j] * np.sin(ZZ) - YY2[j] * (c1 * np.sin(ZZ) - c2 * np.cos(ZZ))\n",
    "        diffusione2 = sigma \n",
    "        YY2[j] = YY2[j] + drift2 * h + diffusione2 * math.sqrt(h) * W\n",
    "    \n",
    "    ZZ = ZZ + (c1 * np.cos(ZZ) - c2 * np.sin(ZZ)) * h + sigma * math.sqrt(h) * W\n",
    "    \n",
    "    return ZZ, YY1, YY2\n"
   ]
  },
  {
   "cell_type": "markdown",
   "id": "0f1197e1",
   "metadata": {},
   "source": [
    "Ora scriviamo la funzione che si occupa di richiamare ciclicamente la preedente e produrre in output le realizzazioni delle due soluzioni cercate."
   ]
  },
  {
   "cell_type": "code",
   "execution_count": 33,
   "id": "3f8e7c70",
   "metadata": {},
   "outputs": [],
   "source": [
    "def eulero_Y(a1, a2, sigma, n, T, N, M, Z0, tipo):\n",
    "    h = T / N \n",
    "    Z = [Z0 * np.ones(M)]\n",
    "    Y1 = [np.zeros((n+1, M))]\n",
    "    Y2 = [np.zeros((n+1, M))]\n",
    "    \n",
    "    ZZ = Z0 * np.ones(M)\n",
    "    YY1 = np.zeros((n+1, M))\n",
    "    YY2 = np.zeros((n+1, M))\n",
    "    \n",
    "    for i in range(1, N+1):\n",
    "        c1 = L(T, a1, i * h , tipo)\n",
    "        c2 = L(T, a2, i * h , tipo)\n",
    "        ZZ, YY1, YY2 = step_eulero_Y(c1, c2, sigma, T, i, n, h, M, ZZ, YY1, YY2, tipo)\n",
    "        Z.append(ZZ)\n",
    "        Y1.append(YY1)\n",
    "        Y2.append(YY2)\n",
    "    \n",
    "    return np.array(Z), np.array(Y1), np.array(Y2)"
   ]
  },
  {
   "cell_type": "markdown",
   "id": "ad7bac12",
   "metadata": {},
   "source": [
    "## Metodo di DIscesa del Gradiente"
   ]
  },
  {
   "cell_type": "markdown",
   "id": "4da5da8f",
   "metadata": {},
   "source": [
    "In questa sezione ci sono le due funzioni cardine del codice. La prima serve a calcolare la realizzazione del gradiente per la discesa stocastica, ovvero la funzione $v$ descritta nella (17) dell'articolo. In generale la scrittura di $v$, componente per componente, è la seguente:\n",
    "\n",
    "$$v_{h,j}(a; \\xi, W; \\tilde{\\xi}, \\tilde{W}) = 2 \\int_0^T \\langle \\varphi (Z^a_t(\\xi,W)) - \\textbf{h} ((\\mathcal{L}a)(t)), \\nabla_x \\varphi (Z^a_t(\\tilde{\\xi}, \\tilde{W})) Y_t^{a;h,j}(\\tilde{\\xi}, \\tilde{W}) - \\partial_{a_{h,j}}\\textbf{h}((\\mathcal{L})(t))\\rangle dt, $$ \n",
    "con $h = 0, \\cdots , n$ e $j = 1, \\cdots, K$."
   ]
  },
  {
   "cell_type": "markdown",
   "id": "0de3e8a5",
   "metadata": {},
   "source": [
    "Come nei casi precedenti scriviamo questa e quazione nel caso specifico del nostro algoritmo. Avendo suddiviso il tempo in N steps temporali, approssimiamo l'integrale con una sommatoria.\n",
    "\n",
    "$$v_{h,1}(a; W; \\tilde{W}) = 2 \\sum_{t=0}^{N \\cdot h} \\left[ \\left( sen(Z^a_t(W)) - (\\mathcal{L}a)_1(t) \\right) \\cdot \\left( cos(Z^a_t(\\tilde{W})) Y_t^{a;h,1}(\\tilde{W}) - g_h(t) \\right) + \\left( cos(Z^a_t(W)) - (\\mathcal{L}a)_2(t) \\right) \\cdot \\left( -sen(Z^a_t(\\tilde{W})) Y_t^{a;h,1}(\\tilde{W}) \\right)\\right], $$ \n",
    "\n",
    "$$v_{h,2}(a; W; \\tilde{W}) = 2 \\sum_{t=0}^{N \\cdot h} \\left[ \\left( sen(Z^a_t(W)) - (\\mathcal{L}a)_1(t) \\right) \\cdot \\left( cos(Z^a_t(\\tilde{W})) Y_t^{a;h,2}(\\tilde{W}) \\right) + \\left( cos(Z^a_t(W)) - (\\mathcal{L}a)_2(t) \\right) \\cdot \\left( -sen(Z^a_t(\\tilde{W})) Y_t^{a;h,2}(\\tilde{W}) - g_h(t) \\right)\\right], $$  \n",
    "con $h = 0, \\cdots , n$."
   ]
  },
  {
   "cell_type": "markdown",
   "id": "713e9a7f",
   "metadata": {},
   "source": [
    "Notiamo che prima di restituire il valore $v$ questa fuzione fa una media. Esso serve nel caso $M>1$ in cui sfruttiamo molteplici simulzioni del browniano per aver una miglior stima di $v$."
   ]
  },
  {
   "cell_type": "code",
   "execution_count": 34,
   "id": "ecde5727",
   "metadata": {},
   "outputs": [],
   "source": [
    "def gradiente(N, T, Z, Ztilde, Y1tilde, Y2tilde, a1, a2, n, M, tipo):\n",
    "    h = T / N\n",
    "    vv1 = np.zeros((n+1, M))\n",
    "    v1 = np.zeros(n+1)\n",
    "    vv2 = np.zeros((n+1, M))\n",
    "    v2 = np.zeros(n+1)\n",
    "    \n",
    "    for j in range(n+1): \n",
    "        for i in range(N+1):\n",
    "            g = base(T, n, i * h, tipo)\n",
    "            vv1[j] = vv1[j] + 2 * ( ((np.sin(Z[i]) - L(T, a1, i * h, tipo)) * (np.cos(Ztilde[i]) * Y1tilde[i][j] - g[j])) + ((np.cos(Z[i]) - L(T, a2, i * h, tipo)) * (-np.sin(Ztilde[i]) * Y1tilde[i][j])) ) \n",
    "            vv2[j] = vv2[j] + 2 * ( ((np.sin(Z[i]) - L(T, a1, i * h, tipo)) * (np.cos(Ztilde[i]) * Y2tilde[i][j])) + ((np.cos(Z[i]) - L(T, a2, i * h, tipo)) * (-np.sin(Ztilde[i]) * Y2tilde[i][j] - g[j])) ) \n",
    "\n",
    "        v1[j] = average(vv1[j])\n",
    "        v2[j] = average(vv2[j])\n",
    "        \n",
    "    return v1, v2"
   ]
  },
  {
   "cell_type": "markdown",
   "id": "0ddc7868",
   "metadata": {},
   "source": [
    "La seconda serve semplicemente ad applicare il meodo di discesa. Essa non fa altro che richiamare ciclicamente le precedenti funzioni che generano le soluzoni delle SDEs per ogni istante di tempo e richiamare la funzione gradiente che sfrutta quelle soluzioni per calcolare il valore di $v$ da mettere nel passo del metodo di discesa. Notiamo che tra i paramentri c'è anche $M$ che se lasciato a 1 rende il metodo un classico metodo SGD, ma se portato a $\\infty$ porta a un metodo GD."
   ]
  },
  {
   "cell_type": "code",
   "execution_count": 35,
   "id": "12cfb695",
   "metadata": {},
   "outputs": [],
   "source": [
    "def discesa_stocastica_del_gradiente(a1_0, a2_0, n, r0, rho, m, sigma, T, N, M, X0, tipo):\n",
    "    a1 = a1_0 \n",
    "    a2 = a2_0\n",
    "    for mm in range(m):\n",
    "        eta = r0 / ((mm + 1) ** rho)\n",
    "        \n",
    "        Z = eulero_Z(a1, a2, sigma, T, N, M, X0, tipo) \n",
    "        Ztilde, Y1tilde, Y2tilde = eulero_Y(a1, a2, sigma, n, T, N, M, X0, tipo) \n",
    "        \n",
    "        v1, v2 = gradiente(N, T, Z, Ztilde, Y1tilde, Y2tilde, a1, a2, n, M, tipo) \n",
    "        a1 = a1 - eta * v1\n",
    "        a2 = a2 - eta * v2\n",
    "    return a1, a2"
   ]
  },
  {
   "cell_type": "markdown",
   "id": "89e00b41",
   "metadata": {},
   "source": [
    "## Main"
   ]
  },
  {
   "cell_type": "markdown",
   "id": "3c04ab48",
   "metadata": {},
   "source": [
    "Concludiamo riportando il main che richiama le funzioni sopra definite. Ricordiamo a cosa corrisponderanno i valori che daremo in input alle funzioni che richiameremo:\n",
    "* N : numero di iterazioni (steps temporali),\n",
    "* M : numero di simulazioni in ogni istante,\n",
    "* T : istante finale,\n",
    "* $\\mu$ : funzione di Drift,\n",
    "* $\\sigma$ : funzione di Diffuzione,\n",
    "* h : step temporale,\n",
    "* $X_0$ : dato iniziale."
   ]
  },
  {
   "cell_type": "markdown",
   "id": "40527834",
   "metadata": {},
   "source": [
    "Richiameremo inoltre:\n",
    "* n: dimensione dello spazio dei polinomi,\n",
    "* $a_0$: valore iniziale del vettore del metodo SGD. Ora è semplificata, poi ci mettiamo lo sviluppo di Taylor di Kolmogorov di gamma1+gamma2,\n",
    "* $r_0$ e $\\rho$: servono per i learning rates e deve essere 1/2 < $\\rho$ < 1 ,\n",
    "* m: num di step per il mtodo SGD,\n",
    "* M: mini batch tra SGD e GD"
   ]
  },
  {
   "cell_type": "markdown",
   "id": "50c1e927",
   "metadata": {},
   "source": [
    "Ricordiamo inoltre che siamo in un caso semplificato in cui non ci sono le due mappe ausiliarie $H$ e $\\textbf{h}$, ovvero:\n",
    "* H = 0\n",
    "* $\\textbf{h}$ = lambda x: x"
   ]
  },
  {
   "cell_type": "code",
   "execution_count": 36,
   "id": "8e9e0122",
   "metadata": {
    "scrolled": true
   },
   "outputs": [
    {
     "name": "stdout",
     "output_type": "stream",
     "text": [
      "Tempo di esecuzione:  0.015625\n"
     ]
    }
   ],
   "source": [
    "if __name__ == \"__main__\":\n",
    "    \n",
    "    # Parametri in Input vecchi\n",
    "\n",
    "    sigma = 0.5\n",
    "    T = 1\n",
    "    N = 10\n",
    "    M = 1000000\n",
    "    X0 = 0.5\n",
    "\n",
    "    # Parametri in Input nuovi\n",
    "\n",
    "    n = 2   # dimensione dello spazio dei polinomi\n",
    "    a1_0 = np.sin(X0) * np.ones(n+1) \n",
    "    a2_0 = np.cos(X0) * np.ones(n+1) \n",
    "    r0 = 1\n",
    "    rho = 3 / 4  \n",
    "    m = 2\n",
    "    M = 1 \n",
    "    tipo = 'canonica'\n",
    "    \n",
    "    start = time.process_time()   # parte il cronometro\n",
    "    a1, a2 = discesa_stocastica_del_gradiente(a1_0, a2_0, n, r0, rho, m, sigma, T, N, M, X0, tipo)\n",
    "    end = time.process_time()   # si ferma il cronometro\n",
    "    \n",
    "    print(\"Tempo di esecuzione: \", end - start)"
   ]
  },
  {
   "cell_type": "code",
   "execution_count": 37,
   "id": "b01f7a23",
   "metadata": {},
   "outputs": [
    {
     "name": "stdout",
     "output_type": "stream",
     "text": [
      "a1 =  [-1152555.83871749 -1377811.30956093 -1400437.90334705]\n",
      "a2 =  [-1699051.60189241 -1442479.02710516 -1409175.36113048]\n"
     ]
    }
   ],
   "source": [
    "print(\"a1 = \", a1)\n",
    "print(\"a2 = \", a2)"
   ]
  },
  {
   "cell_type": "markdown",
   "id": "beaa389e",
   "metadata": {},
   "source": [
    "Grafico dell'approssimazione di $\\mathbb{E}[sen(X)]$."
   ]
  },
  {
   "cell_type": "code",
   "execution_count": 38,
   "id": "ca21b8a3",
   "metadata": {},
   "outputs": [
    {
     "data": {
      "image/png": "[encoded data removed]",
      "text/plain": [
       "<Figure size 640x480 with 1 Axes>"
      ]
     },
     "metadata": {},
     "output_type": "display_data"
    }
   ],
   "source": [
    "grafico = []\n",
    "for i in range(N+1):\n",
    "    grafico.append(L(T, a1, (T / N) * i, tipo))\n",
    "\n",
    "fig = plt.figure() \n",
    "plt.title(\"SGD [\" + str(m) + \" passi]\") \n",
    "plt.xlabel(\"Step temporali\") \n",
    "plt.ylabel(\"Evoluzione di (La)1\") \n",
    "# plt.ylim(-1,1) # se non c'è il grafico è molto zoomato\n",
    "plt.plot(grafico, label='(La)1(t)')\n",
    "plt.legend()\n",
    "plt.show() "
   ]
  },
  {
   "cell_type": "markdown",
   "id": "d2c9feaf",
   "metadata": {},
   "source": [
    "Grafico dell'approssimazione di $\\mathbb{E}[cos(X)]$."
   ]
  },
  {
   "cell_type": "code",
   "execution_count": 39,
   "id": "bc37bf68",
   "metadata": {},
   "outputs": [
    {
     "data": {
      "image/png": "[encoded data removed]",
      "text/plain": [
       "<Figure size 640x480 with 1 Axes>"
      ]
     },
     "metadata": {},
     "output_type": "display_data"
    }
   ],
   "source": [
    "grafico = []\n",
    "for i in range(N+1):\n",
    "    grafico.append(L(T, a2, (T / N) * i, tipo))\n",
    "\n",
    "fig = plt.figure() \n",
    "plt.title(\"SGD [\" + str(m) + \" passi]\") \n",
    "plt.xlabel(\"Step temporali\") \n",
    "plt.ylabel(\"Evoluzione di (La)2\") \n",
    "# plt.ylim(-1,1) # se non c'è il grafico è molto zoomato\n",
    "plt.plot(grafico, label='(La)2(t)')\n",
    "plt.legend()\n",
    "plt.show() "
   ]
  },
  {
   "cell_type": "markdown",
   "id": "219c1e5f",
   "metadata": {},
   "source": [
    "OSSERVAZIONI: con m>4 fa calcoli più piccoli dell $\\epsilon$ macchina"
   ]
  }
 ],
 "metadata": {
  "kernelspec": {
   "display_name": "Python 3 (ipykernel)",
   "language": "python",
   "name": "python3"
  },
  "language_info": {
   "codemirror_mode": {
    "name": "ipython",
    "version": 3
   },
   "file_extension": ".py",
   "mimetype": "text/x-python",
   "name": "python",
   "nbconvert_exporter": "python",
   "pygments_lexer": "ipython3",
   "version": "3.9.13"
  }
 },
 "nbformat": 4,
 "nbformat_minor": 5
}
