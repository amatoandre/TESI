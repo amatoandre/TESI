{
 "cells": [
  {
   "cell_type": "markdown",
   "id": "472ff886",
   "metadata": {},
   "source": [
    "# Kuramoto-Shinomoto-Sakaguchi MV-SDE"
   ]
  },
  {
   "cell_type": "markdown",
   "id": "f707e466",
   "metadata": {},
   "source": [
    "Importiamo, in primis, i pacchetti necessari per usarele funzioni matematiche in python"
   ]
  },
  {
   "cell_type": "code",
   "execution_count": 3,
   "id": "e25496e9",
   "metadata": {},
   "outputs": [],
   "source": [
    "# -*- coding: utf-8 -*-\n",
    "\"\"\"\n",
    "Created on Thu Jan 19 12:13:37 2023\n",
    "@author: Andrea\n",
    "\"\"\"\n",
    "import math\n",
    "import numpy as np \n",
    "import numpy.matlib as ml"
   ]
  },
  {
   "cell_type": "markdown",
   "id": "b0a9c260",
   "metadata": {},
   "source": [
    "Ricordiamo a cosa corrisponderanno i valari che prenderemo in input nelle funzioni che definiremo\n",
    "* N : numero di iterazioni (steps temporali)\n",
    "* M : numero di simulazioni in ogni istante\n",
    "* T : istante finale\n",
    "* $\\mu$ : funzione di Drift\n",
    "* $\\sigma$ : funzione di Diffuzione"
   ]
  },
  {
   "cell_type": "markdown",
   "id": "b246b790",
   "metadata": {},
   "source": [
    "Riscriviamo infine l'equazione di Kuramoto-Shninomoto-Sakaguchi forma differenziale\n",
    "\n",
    "$ dX_t = \\left( c_1 sen(X_t) - c_2 cos(X_t) \\right) dt + \\sigma dW_t $"
   ]
  },
  {
   "cell_type": "markdown",
   "id": "4930dfde",
   "metadata": {},
   "source": [
    "Siamo pronti per definire la prima funzione che applica il Metodo di Eulero a un vettore X preso in input, assieme alle costanti $c_1$ e $c_2$, il valore della parte diffusiva $\\sigma$ , il numero di simulazioni M e il valore dello step temporale h"
   ]
  },
  {
   "cell_type": "code",
   "execution_count": 4,
   "id": "2efad7d9",
   "metadata": {},
   "outputs": [],
   "source": [
    "def eulero(c1, c2, sigma, h, M, X):\n",
    "    W = np.random.normal(0, 1, (1, M)) \n",
    "    drift = c1 * np.cos(X) - c2 * np.sin(X) \n",
    "    diffusione = sigma \n",
    "    X = X + drift * h + diffusione * math.sqrt(h) * W \n",
    "    \n",
    "    return X"
   ]
  },
  {
   "cell_type": "markdown",
   "id": "9865b032",
   "metadata": {},
   "source": [
    "Ora definiamo la funzione volta ad applicare il metodo Monte Carlo, che banalmente fa la media degli M valori di un vettore preso in input "
   ]
  },
  {
   "cell_type": "code",
   "execution_count": 5,
   "id": "94c40423",
   "metadata": {},
   "outputs": [],
   "source": [
    "def monte_carlo(M, Y):\n",
    "    X = sum(Y) / M\n",
    "    return X"
   ]
  },
  {
   "cell_type": "markdown",
   "id": "79e2fec9",
   "metadata": {},
   "source": [
    "Concludiamo riportanto il main che richiama le due funzioni sopra definite. Notiamo come il Metodo di Eulero vada applicato ciclicamente per ogni step temporale affinchè sia valido questo algoritmo."
   ]
  },
  {
   "cell_type": "code",
   "execution_count": 2,
   "id": "a4d440a9",
   "metadata": {
    "scrolled": true
   },
   "outputs": [
    {
     "name": "stdout",
     "output_type": "stream",
     "text": [
      "[[103.58429402 104.98558868 102.54015373 105.29593541 104.22888701\n",
      "  105.64113338 103.25492295 103.44831381 102.66763293 104.77735684]]\n",
      "[-0.18432758]\n"
     ]
    }
   ],
   "source": [
    "if __name__ == \"__main__\":\n",
    "    \n",
    "    # Parametri in Input\n",
    "    c1 = 1\n",
    "    c2 = 0\n",
    "    sigma = 0.5\n",
    "    T = 10\n",
    "    N = 2\n",
    "    M = 10\n",
    "    X0 = 100\n",
    "    \n",
    "    # Richiamo funzioni\n",
    "    h = T / N\n",
    "    X = ml.repmat(X0, 1, M)\n",
    "    \n",
    "    for i in range(N):\n",
    "        XT = eulero(c1, c2, sigma, h, M, X)\n",
    "        \n",
    "        YT = c1 * np.sin(XT) + c2 * np.cos(XT)\n",
    "        YT = YT.transpose()\n",
    "        F = monte_carlo(M, YT)\n",
    "    print(XT)\n",
    "    print(F)"
   ]
  }
 ],
 "metadata": {
  "kernelspec": {
   "display_name": "Python 3 (ipykernel)",
   "language": "python",
   "name": "python3"
  },
  "language_info": {
   "codemirror_mode": {
    "name": "ipython",
    "version": 3
   },
   "file_extension": ".py",
   "mimetype": "text/x-python",
   "name": "python",
   "nbconvert_exporter": "python",
   "pygments_lexer": "ipython3",
   "version": "3.9.13"
  }
 },
 "nbformat": 4,
 "nbformat_minor": 5
}
