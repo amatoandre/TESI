{
 "cells": [
  {
   "cell_type": "markdown",
   "id": "472ff886",
   "metadata": {},
   "source": [
    "# Kuramoto-Shinomoto-Sakaguchi MV-SDE"
   ]
  },
  {
   "cell_type": "markdown",
   "id": "46990035",
   "metadata": {},
   "source": [
    "In primis importiamo i pacchetti necessari per usare le funzioni matematiche in python."
   ]
  },
  {
   "cell_type": "code",
   "execution_count": 58,
   "id": "e25496e9",
   "metadata": {},
   "outputs": [],
   "source": [
    "import math\n",
    "import numpy as np\n",
    "import matplotlib.pyplot as plt\n",
    "import time"
   ]
  },
  {
   "cell_type": "markdown",
   "id": "8ae25eb1",
   "metadata": {},
   "source": [
    "Scriviamo la MV-SDE relativa al modello di Kuramoto-Shninomoto-Sakaguchi:\n",
    "\n",
    "$$ dX_t = \\left( \\mathbb{E}[sen(X_t)] cos(X_t) - \\mathbb{E}[cos(X_t)]sen(X_t) \\right) dt + \\sigma dW_t , \\ \\ \\ X_0=x_0. $$"
   ]
  },
  {
   "cell_type": "markdown",
   "id": "d35f69ea",
   "metadata": {},
   "source": [
    "Da questa equazione differenziale si evince che:\n",
    "* K = 3, d = 1 e q = 1,\n",
    "* $\\varphi(x)=(1, senx, cosx)$, \n",
    "* $\\alpha(t,x)=(0, cosx, -senx)^T$, \n",
    "* $\\beta(t,x)=(\\sigma, 0, 0)^T$."
   ]
  },
  {
   "cell_type": "markdown",
   "id": "cd38103e",
   "metadata": {},
   "source": [
    "Siamo pronti per definire la prima funzione che applica il Metodo di Eulero a un vettore X preso in input, assieme alle costanti $c_1$ e $c_2$, il valore della parte diffusiva $\\sigma$ , il numero di simulazioni M e il valore dello step temporale h.\n",
    "<a id=\"eulero\"></a>"
   ]
  },
  {
   "cell_type": "code",
   "execution_count": 59,
   "id": "2efad7d9",
   "metadata": {},
   "outputs": [],
   "source": [
    "def eulero(c1, c2, sigma, h, M, X):\n",
    "    W = np.random.normal(0, 1, M) \n",
    "    drift = c1 * np.cos(X) - c2 * np.sin(X) \n",
    "    diffusione = sigma \n",
    "    X = X + drift * h + diffusione * math.sqrt(h) * W \n",
    "    \n",
    "    return X"
   ]
  },
  {
   "cell_type": "markdown",
   "id": "c6bf517d",
   "metadata": {},
   "source": [
    "Ora definiamo la funzione che calcola la media degli M valori di un vettore preso in input. \n",
    "<a id=\"average\"></a>"
   ]
  },
  {
   "cell_type": "code",
   "execution_count": 60,
   "id": "94c40423",
   "metadata": {},
   "outputs": [],
   "source": [
    "def average(Y):\n",
    "    num = Y.size\n",
    "    X = sum(Y) / num\n",
    "    return X"
   ]
  },
  {
   "cell_type": "markdown",
   "id": "42195c8c",
   "metadata": {},
   "source": [
    "Scriviamo la funzione pricipale che implementa il metodo Monte Carlo. Essa calcola il valore h di ogni step e il vettore di valori iniziali, dopodichè richiama ciclicamente il Metodo di Eulero sopra definito, per ogni step temporale.\n",
    "<a id=\"montecarlo\"></a>"
   ]
  },
  {
   "cell_type": "code",
   "execution_count": 61,
   "id": "60f14287",
   "metadata": {},
   "outputs": [],
   "source": [
    "def monte_carlo(c1, c2, a1, a2, sigma, T, N, M, X0):\n",
    "    h = T / N\n",
    "    X = X0 * np.ones(M)\n",
    "    gamma1 = []\n",
    "    gamma2 = []\n",
    "    \n",
    "    for i in range(N):\n",
    "        gamma1.append(average(np.sin(X)))\n",
    "        gamma2.append(average(np.cos(X)))\n",
    "        X = eulero(c1 + a1 * gamma1[-1], c2 + a2 * gamma2[-1], sigma, h, M, X)\n",
    "    \n",
    "    return X, np.array(gamma1), np.array(gamma2) "
   ]
  },
  {
   "cell_type": "markdown",
   "id": "275b65f2",
   "metadata": {},
   "source": [
    "Concludiamo riportando il main che richiama le funzioni sopra definite. Ricordiamo a cosa corrisponderanno i valori che daremo in input alle funzioni che richiameremo:\n",
    "* N : numero di iterazioni (steps temporali),\n",
    "* M : numero di simulazioni in ogni istante,\n",
    "* T : istante finale,\n",
    "* $\\mu$ : funzione di Drift,\n",
    "* $\\sigma$ : funzione di Diffuzione,\n",
    "* h : step temporale,\n",
    "* $X_0$ : dato iniziale."
   ]
  },
  {
   "cell_type": "markdown",
   "id": "102dc9e4",
   "metadata": {},
   "source": [
    "Precisiamo anche il ruolo che le quattro costanti $c_1, \\  c_2, \\ a_1$ e $a_2$ hanno all'interno del programma. Esse infatti servono per rendere il metodo applicabile sia al caso di MV-SDE che a quello di SDE Markoviane. Infatti i coefficienti $a_1$ e $a_2$ possono annullare il contributo dipendente dal valore atteso,  all'interno dell'equazione.\n",
    "<a id=\"main\"></a>"
   ]
  },
  {
   "cell_type": "code",
   "execution_count": 72,
   "id": "8e9e0122",
   "metadata": {
    "scrolled": true
   },
   "outputs": [
    {
     "name": "stdout",
     "output_type": "stream",
     "text": [
      "Tempo di esecuzione:  2.234375\n"
     ]
    }
   ],
   "source": [
    "if __name__ == \"__main__\":\n",
    "    \n",
    "    # Parametri in Input\n",
    "    c1 = 1\n",
    "    c2 = 0\n",
    "    a1 = 1\n",
    "    a2 = 0\n",
    "    \n",
    "    sigma = 0.5\n",
    "    \n",
    "    T = 1\n",
    "    N = 1000\n",
    "    M = 10000\n",
    "    X0 = 0\n",
    "    \n",
    "    start = time.process_time()   # parte il cronometro\n",
    "    X, gamma1, gamma2 = monte_carlo(c1, c2, a1, a2, sigma, T, N, M, X0)\n",
    "    end = time.process_time()   # si ferma il cronometro\n",
    "    \n",
    "    print(\"Tempo di esecuzione: \", end - start)"
   ]
  },
  {
   "cell_type": "code",
   "execution_count": 66,
   "id": "324e8161",
   "metadata": {},
   "outputs": [
    {
     "name": "stdout",
     "output_type": "stream",
     "text": [
      " XT =  [1.35203916 1.00363018 1.16439905 ... 1.1294004  1.02673559 0.79510217]\n"
     ]
    }
   ],
   "source": [
    "print(\" XT = \", X)"
   ]
  },
  {
   "cell_type": "code",
   "execution_count": 50,
   "id": "7564a383",
   "metadata": {},
   "outputs": [
    {
     "name": "stdout",
     "output_type": "stream",
     "text": [
      " E[sen(X)] =  [0.00000000e+00 1.17076152e-04 1.89417427e-04 ... 8.49685785e-01\n",
      " 8.49718344e-01 8.49706849e-01]\n"
     ]
    }
   ],
   "source": [
    "print(\" E[sen(X)] = \", gamma1)"
   ]
  },
  {
   "cell_type": "code",
   "execution_count": 51,
   "id": "ffa646cc",
   "metadata": {},
   "outputs": [
    {
     "name": "stdout",
     "output_type": "stream",
     "text": [
      " E[cos(X)] =  [1.         0.99998746 0.99997487 ... 0.43036337 0.43028035 0.43029056]\n"
     ]
    }
   ],
   "source": [
    "print(\" E[cos(X)] = \", gamma2)"
   ]
  },
  {
   "cell_type": "code",
   "execution_count": 52,
   "id": "6a61c33d",
   "metadata": {},
   "outputs": [
    {
     "data": {
      "image/png": "[encoded data removed]",
      "text/plain": [
       "<Figure size 640x480 with 1 Axes>"
      ]
     },
     "metadata": {},
     "output_type": "display_data"
    }
   ],
   "source": [
    "fig = plt.figure() \n",
    "plt.title(\"Eulero X Monte Carlo [\" + str(M) + \" simulazioni]\") \n",
    "plt.xlabel(\"Step temporali\") \n",
    "plt.ylabel(\"Evoluzione di gamma1 e gamma2\") \n",
    "plt.plot(gamma1, label='E[sen(X)]')\n",
    "plt.plot(gamma2, label='E[cos(X)]')\n",
    "plt.legend()\n",
    "plt.show()"
   ]
  },
  {
   "cell_type": "markdown",
   "id": "783c8a4a",
   "metadata": {},
   "source": [
    "[Vai alla funzione eulero](#eulero)"
   ]
  },
  {
   "cell_type": "markdown",
   "id": "bf437020",
   "metadata": {},
   "source": [
    "[Vai alla funzione average](#average)"
   ]
  },
  {
   "cell_type": "markdown",
   "id": "9ab42464",
   "metadata": {},
   "source": [
    "[Vai alla funzione monte carlo](#montecarlo)"
   ]
  },
  {
   "cell_type": "markdown",
   "id": "c76bef02",
   "metadata": {},
   "source": [
    "[Vai al main](#main)"
   ]
  },
  {
   "cell_type": "code",
   "execution_count": null,
   "id": "28b60844",
   "metadata": {},
   "outputs": [],
   "source": []
  }
 ],
 "metadata": {
  "kernelspec": {
   "display_name": "Python 3 (ipykernel)",
   "language": "python",
   "name": "python3"
  },
  "language_info": {
   "codemirror_mode": {
    "name": "ipython",
    "version": 3
   },
   "file_extension": ".py",
   "mimetype": "text/x-python",
   "name": "python",
   "nbconvert_exporter": "python",
   "pygments_lexer": "ipython3",
   "version": "3.9.13"
  }
 },
 "nbformat": 4,
 "nbformat_minor": 5
}
