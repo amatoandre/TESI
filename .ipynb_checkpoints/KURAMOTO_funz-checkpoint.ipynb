{
 "cells": [
  {
   "cell_type": "markdown",
   "id": "1eb4497c",
   "metadata": {},
   "source": [
    "# Kuramoto-Shinomoto-Sakaguchi MV-SDE + FUNZIONI"
   ]
  },
  {
   "cell_type": "markdown",
   "id": "f707e466",
   "metadata": {},
   "source": [
    "Importiamo, in primis, i pacchetti necessari per usarele funzioni matematiche in python"
   ]
  },
  {
   "cell_type": "code",
   "execution_count": 2,
   "id": "e25496e9",
   "metadata": {},
   "outputs": [],
   "source": [
    "import math\n",
    "import numpy as np "
   ]
  },
  {
   "cell_type": "markdown",
   "id": "74b9216a",
   "metadata": {},
   "source": [
    "Scriviamo l'equazione di Kuramoto-Shninomoto-Sakaguchi in forma differenziale\n",
    "\n",
    "$ dX_t = \\left( \\mathbb{E}[sen(X_t)] cos(X_t) - \\mathbb{E}[cos(X_t)]sen(X_t) \\right) dt + \\sigma dW_t , \\ \\ \\ X_0=x_0 $"
   ]
  },
  {
   "cell_type": "markdown",
   "id": "f6be2fe6",
   "metadata": {},
   "source": [
    "Da questa equazione differenziale si evince che:\n",
    "    K = 3, d = 1, q = 1 e\n",
    "    $\\varphi(x)=(1, senx, cosx)$, $\\alpha(t,x)=(0, cosx, -senx)^T$ e $\\beta(t,x)=(\\sigma, 0, 0)^T$"
   ]
  },
  {
   "cell_type": "markdown",
   "id": "7e58d66d",
   "metadata": {},
   "source": [
    "Per ora ne cosideriamo una versione semplificata in cui i due valori attesi sono sostituiti da due costanti $c_1$ e $c_2$."
   ]
  },
  {
   "cell_type": "markdown",
   "id": "f17d7b57",
   "metadata": {},
   "source": [
    "Siamo pronti per definire la prima funzione che applica il Metodo di Eulero a un vettore X preso in input, assieme alle costanti $c_1$ e $c_2$, le due funzioni $\\alpha$ e $\\beta$ , il numero di simulazioni M e il valore dello step temporale h"
   ]
  },
  {
   "cell_type": "code",
   "execution_count": 3,
   "id": "2efad7d9",
   "metadata": {},
   "outputs": [],
   "source": [
    "def eulero(c1, c2, alfa, beta, h, M, X):\n",
    "    W = np.random.normal(0, 1, M) \n",
    "    drift = ( c1 * alfa(X)[0,:] ) + ( c2 * alfa(X)[1,:] )\n",
    "    diffusione = beta \n",
    "    X = X + drift * h + diffusione * math.sqrt(h) * W \n",
    "    \n",
    "    return X"
   ]
  },
  {
   "cell_type": "markdown",
   "id": "9865b032",
   "metadata": {},
   "source": [
    "Ora definiamo la funzione volta ad applicare il metodo Monte Carlo, che banalmente fa la media degli M valori di un vettore preso in input "
   ]
  },
  {
   "cell_type": "code",
   "execution_count": 4,
   "id": "94c40423",
   "metadata": {},
   "outputs": [],
   "source": [
    "def monte_carlo(Y):\n",
    "    num = Y.size\n",
    "    MC = sum(Y) / num\n",
    "    return MC"
   ]
  },
  {
   "cell_type": "markdown",
   "id": "79e2fec9",
   "metadata": {},
   "source": [
    "Concludiamo riportanto il main che richiama le due funzioni sopra definite. Notiamo come il Metodo di Eulero vada applicato ciclicamente per ogni step temporale affinchè sia valido questo algoritmo."
   ]
  },
  {
   "cell_type": "markdown",
   "id": "3a1da52a",
   "metadata": {},
   "source": [
    "Ricordiamo a cosa corrisponderanno i valori che daremo in input nelle funzioni appena deifinite\n",
    "* N : numero di iterazioni (steps temporali)\n",
    "* M : numero di simulazioni in ogni istante\n",
    "* T : istante finale\n",
    "* $X_0$ : valore iniziale\n",
    "* h : step temporale\n",
    "* $\\alpha$ : funzione di Drift\n",
    "* $\\beta$ : funzione di Diffuzione\n",
    "* $\\varphi$ : funzione payoff"
   ]
  },
  {
   "cell_type": "code",
   "execution_count": 9,
   "id": "a4d440a9",
   "metadata": {
    "scrolled": true
   },
   "outputs": [
    {
     "name": "stdout",
     "output_type": "stream",
     "text": [
      "[37.39978973 37.32931546 37.20645565 ... 37.12887129 37.09366248\n",
      " 36.93923036]\n",
      "-0.5758149400710333\n"
     ]
    }
   ],
   "source": [
    "if __name__ == \"__main__\":\n",
    "    \n",
    "    # Parametri in Input\n",
    "    T = 10\n",
    "    N = 100\n",
    "    M = 1000000\n",
    "    X0 = 37\n",
    "    \n",
    "    sigma = 0.5\n",
    "    c1 = 1\n",
    "    c2 = 0\n",
    "    \n",
    "    phi = lambda x : np.array([c1 * np.sin(x), c2 * np.cos(x)])\n",
    "    alfa = lambda x : np.array([np.cos(x), - np.sin(x)])\n",
    "    beta = sigma\n",
    "    \n",
    "    # Richiamo funzione\n",
    "    h = T / N\n",
    "    X = X0 * np.ones(M)\n",
    "    \n",
    "    for i in range(N):\n",
    "        XT = eulero(c1, c2, alfa, beta, h, M, X)\n",
    "        \n",
    "    YT = ( phi(XT)[0,:] ) + ( phi(XT)[1,:] )\n",
    "    PayOff = monte_carlo(YT)\n",
    "    \n",
    "    print(XT)\n",
    "    print(PayOff)"
   ]
  },
  {
   "cell_type": "code",
   "execution_count": null,
   "id": "8e9e0122",
   "metadata": {},
   "outputs": [],
   "source": []
  },
  {
   "cell_type": "code",
   "execution_count": null,
   "id": "76690bc5",
   "metadata": {},
   "outputs": [],
   "source": []
  },
  {
   "cell_type": "code",
   "execution_count": null,
   "id": "1537c621",
   "metadata": {},
   "outputs": [],
   "source": []
  }
 ],
 "metadata": {
  "kernelspec": {
   "display_name": "Python 3 (ipykernel)",
   "language": "python",
   "name": "python3"
  },
  "language_info": {
   "codemirror_mode": {
    "name": "ipython",
    "version": 3
   },
   "file_extension": ".py",
   "mimetype": "text/x-python",
   "name": "python",
   "nbconvert_exporter": "python",
   "pygments_lexer": "ipython3",
   "version": "3.9.13"
  }
 },
 "nbformat": 4,
 "nbformat_minor": 5
}
