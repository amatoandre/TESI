{
 "cells": [
  {
   "cell_type": "markdown",
   "id": "472ff886",
   "metadata": {},
   "source": [
    "# Confronto metodi per Kuramoto-Shinomoto-Sakaguchi MV-SDE"
   ]
  },
  {
   "cell_type": "markdown",
   "id": "dd98ef24",
   "metadata": {},
   "source": [
    "Questo codice non fa altro che richiamare le funzioni di entrambi i metodi usati per risolvere l'SDE di Kuramoto-Shinomoto-Sakaguchi. In primis la risolveremo col metodo Eulero - Monte Carlo e poi col metodo di Discesa Stocastica del Gradiente e vediamo di quanto differiscono le due soluzioni."
   ]
  },
  {
   "cell_type": "markdown",
   "id": "6967e6a0",
   "metadata": {},
   "source": [
    "Scriviamo la MV-SDE relativa al modello di Kuramoto-Shinomoto-Sakaguchi, ovvero:\n",
    "\n",
    "$$ dX_t = \\left( \\mathbb{E}[sen(X_t)] cos(X_t) - \\mathbb{E}[cos(X_t)] sen(X_t) \\right) dt + \\sigma dW_t , \\ \\ \\ X_0=x_0. $$"
   ]
  },
  {
   "cell_type": "markdown",
   "id": "18d08153",
   "metadata": {},
   "source": [
    "Da questa equazione differenziale si evince che:\n",
    "* K = 3, d = 1 e q = 1,\n",
    "* $\\varphi(x)=(1, senx, cosx)$, \n",
    "* $\\alpha(t,x)=(0, cosx, -senx)^T$, \n",
    "* $\\beta(t,x)=(\\sigma, 0 , 0)^T$."
   ]
  },
  {
   "cell_type": "code",
   "execution_count": 2,
   "id": "20d2432a",
   "metadata": {},
   "outputs": [],
   "source": [
    "import math\n",
    "import numpy as np\n",
    "import matplotlib.pyplot as plt\n",
    "import time\n",
    "\n",
    "def average(Y):\n",
    "    num = Y.size\n",
    "    X = sum(Y) / num\n",
    "    return X"
   ]
  },
  {
   "cell_type": "markdown",
   "id": "d1ff9fa5",
   "metadata": {},
   "source": [
    "## Metodo di Eulero - Monte Carlo "
   ]
  },
  {
   "cell_type": "code",
   "execution_count": 3,
   "id": "b23a0c0d",
   "metadata": {},
   "outputs": [],
   "source": [
    "def eulero1(c1, c2, sigma, h, M, X):\n",
    "    W = np.random.normal(0, 1, M) \n",
    "    drift = c1 * np.cos(X) - c2 * np.sin(X) \n",
    "    diffusione = sigma \n",
    "    X = X + drift * h + diffusione * math.sqrt(h) * W \n",
    "    \n",
    "    return X\n",
    "\n",
    "def monte_carlo(c1, c2, a1, a2, sigma, T, N, M, X0):\n",
    "    h = T / N\n",
    "    X = X0 * np.ones(M)\n",
    "    gamma1 = [average(np.sin(X))]\n",
    "    gamma2 = [average(np.cos(X))]\n",
    "    \n",
    "    for i in range(N):\n",
    "        X = eulero1(c1 + a1 * gamma1[-1], c2 + a2 * gamma2[-1], sigma, h, M, X)\n",
    "        gamma1.append(average(np.sin(X)))\n",
    "        gamma2.append(average(np.cos(X)))\n",
    "    \n",
    "    return X, np.array(gamma1), np.array(gamma2) "
   ]
  },
  {
   "cell_type": "markdown",
   "id": "21c3247a",
   "metadata": {},
   "source": [
    "## Metodo di Discesa del Gradiente"
   ]
  },
  {
   "cell_type": "code",
   "execution_count": 4,
   "id": "ded2911a",
   "metadata": {},
   "outputs": [],
   "source": [
    "def base(T, N, n, X0, tipo):\n",
    "    g = np.ones(n+1)\n",
    "    cc = np.linspace(0, T, N+1)\n",
    "    \n",
    "    if tipo == 'canonica':\n",
    "        g = np.array([ cc ** i for i in range(n+1)]) \n",
    "        \n",
    "        a1_0 = np.sin(X0) * g[:,0]\n",
    "        a2_0 = np.cos(X0) * g[:,0]\n",
    "        \n",
    "        return a1_0, a2_0, g\n",
    "    \n",
    "    elif tipo == 'lagrange':\n",
    "        l = [(0 + T)/2 + (T - 0)/2 * np.cos(((2 * i + 1)/ (2 * n + 2)) * math.pi) for i in range(n+1)]\n",
    "        \n",
    "        g = np.array([math.prod([((cc - l[j]) / (l[i] - l[j])) for j in range(n+1) if j!=i]) for i in range(n+1)])\n",
    "        \n",
    "        a1_0 = np.sin(X0) * np.ones(n+1) \n",
    "        a2_0 = np.cos(X0) * np.ones(n+1) \n",
    "\n",
    "        return a1_0, a2_0, g \n",
    "        \n",
    "    \n",
    "    else:\n",
    "        return 'err'\n",
    "    \n",
    "def step_eulero(c1, c2, sigma, i, h, M, X, Z, YY1, YY2, g):\n",
    "    W = np.random.normal(0, 1, (2, M)) \n",
    "    \n",
    "    X = X + (c1 * np.cos(X) - c2 * np.sin(X)) * h + sigma * math.sqrt(h) * W[0] \n",
    "    \n",
    "    YY1 = YY1 + ((g[:,i] * np.ones((M, 1))).transpose() * np.cos(Z) - YY1 * (c1 * np.sin(Z) + c2 * np.cos(Z))) * h\n",
    "    YY2 = YY2 + ((-g[:,i] * np.ones((M, 1))).transpose() * np.sin(Z) - YY2 * (c1 * np.sin(Z) + c2 * np.cos(Z))) * h\n",
    "    \n",
    "    Z = Z + (c1 * np.cos(Z) - c2 * np.sin(Z)) * h + sigma * math.sqrt(h) * W[1]\n",
    "    \n",
    "    \n",
    "    return X, Z, YY1, YY2\n",
    "\n",
    "def eulero(a1, a2, sigma, n, N, M, Z0, h, g):\n",
    "    \n",
    "    X = Z0 * np.ones((N+1, M))\n",
    "    Z = Z0 * np.ones((N+1, M))\n",
    "    Y1 = np.zeros((N+1, n+1, M))\n",
    "    Y2 = np.zeros((N+1, n+1, M))\n",
    "    \n",
    "    for i in range(N):\n",
    "        c1 = np.dot(a1, g[:,i])\n",
    "        c2 = np.dot(a2, g[:,i])\n",
    "        YY1 = Y1[i]\n",
    "        YY2 = Y2[i]\n",
    "        X[i+1], Z[i+1], Y1[i+1], Y2[i+1] = step_eulero(c1, c2, sigma, i, h, M, X[i], Z[i], YY1, YY2, g)\n",
    "    \n",
    "    return X, Z, Y1, Y2\n",
    "\n",
    "def gradiente(Z, Ztilde, Y1tilde, Y2tilde, a1, a2, n, M, h, g):\n",
    "    v1 = np.zeros(n+1)\n",
    "    v2 = np.zeros(n+1)\n",
    "    \n",
    "    for j in range(n+1): \n",
    "        \n",
    "        q1 = np.sin(Z) - (np.dot(a1,g) * np.ones((M, 1))).transpose()\n",
    "        q2 = np.cos(Ztilde) * Y1tilde[:,j] - (g[j,:] * np.ones((M, 1))).transpose()\n",
    "        q3 = np.cos(Z) - (np.dot(a2,g) * np.ones((M, 1))).transpose()\n",
    "        q4 = -np.sin(Ztilde) * Y1tilde[:,j]\n",
    "        \n",
    "        v1[j] = average( 2 * h * sum(q1 * q2 + q3 * q4 ) ) \n",
    "        \n",
    "        q1 = np.sin(Z) - (np.dot(a1,g) * np.ones((M, 1))).transpose()\n",
    "        q2 = np.cos(Ztilde) * Y2tilde[:,j] \n",
    "        q3 = np.cos(Z) - (np.dot(a2,g) * np.ones((M, 1))).transpose() \n",
    "        q4 = -np.sin(Ztilde) * Y2tilde[:,j] - (g[j,:] * np.ones((M, 1))).transpose()\n",
    "        \n",
    "        v2[j] = average( 2 * h * sum( q1 * q2 + q3 * q4 ) )\n",
    "\n",
    "    return v1, v2\n",
    "\n",
    "def discesa_stocastica_del_gradiente(a1_0, a2_0, n, r0, rho, m, sigma, N, M, X0, h, g):\n",
    "    a1 = a1_0 \n",
    "    a2 = a2_0\n",
    "    for mm in range(m):\n",
    "        eta = r0 / ((mm + 1) ** rho)\n",
    "        \n",
    "        Z, Ztilde, Y1tilde, Y2tilde = eulero(a1, a2, sigma, n, N, M, X0, h, g)\n",
    "        \n",
    "        v1, v2 = gradiente(Z, Ztilde, Y1tilde, Y2tilde, a1, a2, n, M, h, g) \n",
    "        \n",
    "        a1 = a1 - eta * v1\n",
    "        a2 = a2 - eta * v2\n",
    "        \n",
    "    return a1, a2"
   ]
  },
  {
   "cell_type": "markdown",
   "id": "89e00b41",
   "metadata": {},
   "source": [
    "## Main"
   ]
  },
  {
   "cell_type": "markdown",
   "id": "3c04ab48",
   "metadata": {},
   "source": [
    "Concludiamo riportando il main che richiama le funzioni sopra definite. Ricordiamo a cosa corrisponderanno i valori che daremo in input alle funzioni che richiameremo:\n",
    "* N : numero di iterazioni (steps temporali),\n",
    "* M : numero di simulazioni in ogni istante,\n",
    "* T : istante finale,\n",
    "* $\\mu$ : funzione di Drift,\n",
    "* $\\sigma$ : funzione di Diffuzione,\n",
    "* h : step temporale,\n",
    "* $X_0$ : dato iniziale."
   ]
  },
  {
   "cell_type": "markdown",
   "id": "40527834",
   "metadata": {},
   "source": [
    "Richiameremo inoltre:\n",
    "* n: dimensione dello spazio dei polinomi,\n",
    "* $a_0$: valore iniziale del vettore del metodo SGD. Ora è semplificata, poi ci mettiamo lo sviluppo di Taylor di Kolmogorov di gamma1+gamma2,\n",
    "* $r_0$ e $\\rho$: servono per i learning rates e devono essere  $r_0 \\in (0, +\\infty)$ e $\\frac{1}{2} < \\rho \\leq 1$ ,\n",
    "* m: num di step per il mtodo SGD,\n",
    "* M: mini batch tra SGD e GD"
   ]
  },
  {
   "cell_type": "code",
   "execution_count": 13,
   "id": "8e9e0122",
   "metadata": {
    "scrolled": true
   },
   "outputs": [
    {
     "name": "stdout",
     "output_type": "stream",
     "text": [
      "Tempo di esecuzione Eulero - Monte Carlo:  2.25\n",
      "Tempo di esecuzione Discesa del Gradiente:  330.046875\n"
     ]
    }
   ],
   "source": [
    "if __name__ == \"__main__\":\n",
    "    \n",
    "    # Parametri in Input Comuni\n",
    "    \n",
    "    sigma = 0.5\n",
    "    T = 1\n",
    "    N = 100\n",
    "    X0 = 0.5\n",
    "    \n",
    "    # Parametri in Input Eulero-Monte Carlo\n",
    "    \n",
    "    c1 = 0\n",
    "    c2 = 0\n",
    "    aa1 = 1\n",
    "    aa2 = 1\n",
    "    M = 100000\n",
    "    \n",
    "    # Parametri in Input Discesa Del Gradiente\n",
    "    \n",
    "    h = T / N\n",
    "    n = 5   \n",
    "    r0 = 10\n",
    "    rho = 0.9\n",
    "    m = 50000\n",
    "    M1 = 1 \n",
    "    tipo = 'lagrange'\n",
    "    \n",
    "    a1_0, a2_0, g = base(T, N, n, X0, tipo)\n",
    "    \n",
    "    start = time.process_time()   # parte il cronometro\n",
    "    X, gamma1, gamma2 = monte_carlo(c1, c2, aa1, aa2, sigma, T, N, M, X0)\n",
    "    end = time.process_time()   # si ferma il cronometro\n",
    "    \n",
    "    print(\"Tempo di esecuzione Eulero - Monte Carlo: \", end - start)\n",
    "    \n",
    "    start = time.process_time()   # parte il cronometro\n",
    "    a1, a2 = discesa_stocastica_del_gradiente(a1_0, a2_0, n, r0, rho, m, sigma, N, M1, X0, h, g)\n",
    "    end = time.process_time()   # si ferma il cronometro\n",
    "\n",
    "    print(\"Tempo di esecuzione Discesa del Gradiente: \", end - start)"
   ]
  },
  {
   "cell_type": "markdown",
   "id": "8fabdaab",
   "metadata": {},
   "source": [
    "Grafico dell'approssimazione di $\\mathbb{E}[sen(X)]$."
   ]
  },
  {
   "cell_type": "code",
   "execution_count": 1,
   "id": "ca21b8a3",
   "metadata": {},
   "outputs": [
    {
     "ename": "NameError",
     "evalue": "name 'plt' is not defined",
     "output_type": "error",
     "traceback": [
      "\u001b[1;31m---------------------------------------------------------------------------\u001b[0m",
      "\u001b[1;31mNameError\u001b[0m                                 Traceback (most recent call last)",
      "\u001b[1;32m~\\AppData\\Local\\Temp\\ipykernel_1952\\2078522809.py\u001b[0m in \u001b[0;36m<module>\u001b[1;34m\u001b[0m\n\u001b[1;32m----> 1\u001b[1;33m \u001b[0mfig\u001b[0m \u001b[1;33m=\u001b[0m \u001b[0mplt\u001b[0m\u001b[1;33m.\u001b[0m\u001b[0mfigure\u001b[0m\u001b[1;33m(\u001b[0m\u001b[1;33m)\u001b[0m\u001b[1;33m\u001b[0m\u001b[1;33m\u001b[0m\u001b[0m\n\u001b[0m\u001b[0;32m      2\u001b[0m \u001b[0mplt\u001b[0m\u001b[1;33m.\u001b[0m\u001b[0mtitle\u001b[0m\u001b[1;33m(\u001b[0m\u001b[1;34m\"Confronto MC [\"\u001b[0m \u001b[1;33m+\u001b[0m \u001b[0mstr\u001b[0m\u001b[1;33m(\u001b[0m\u001b[0mM\u001b[0m\u001b[1;33m)\u001b[0m \u001b[1;33m+\u001b[0m \u001b[1;34m\" simulazioni] e SGD [\"\u001b[0m \u001b[1;33m+\u001b[0m \u001b[0mstr\u001b[0m\u001b[1;33m(\u001b[0m\u001b[0mm\u001b[0m\u001b[1;33m)\u001b[0m \u001b[1;33m+\u001b[0m \u001b[1;34m\" passi]\"\u001b[0m\u001b[1;33m)\u001b[0m\u001b[1;33m\u001b[0m\u001b[1;33m\u001b[0m\u001b[0m\n\u001b[0;32m      3\u001b[0m \u001b[0mplt\u001b[0m\u001b[1;33m.\u001b[0m\u001b[0mxlabel\u001b[0m\u001b[1;33m(\u001b[0m\u001b[1;34m\"Step temporali\"\u001b[0m\u001b[1;33m)\u001b[0m\u001b[1;33m\u001b[0m\u001b[1;33m\u001b[0m\u001b[0m\n\u001b[0;32m      4\u001b[0m \u001b[0mplt\u001b[0m\u001b[1;33m.\u001b[0m\u001b[0mylabel\u001b[0m\u001b[1;33m(\u001b[0m\u001b[1;34m\"Evoluzione di E[sen(X)]\"\u001b[0m\u001b[1;33m)\u001b[0m\u001b[1;33m\u001b[0m\u001b[1;33m\u001b[0m\u001b[0m\n\u001b[0;32m      5\u001b[0m \u001b[1;31m# plt.ylim(0.4, 0.9) # se non c'è il grafico è molto zoomato\u001b[0m\u001b[1;33m\u001b[0m\u001b[1;33m\u001b[0m\u001b[0m\n",
      "\u001b[1;31mNameError\u001b[0m: name 'plt' is not defined"
     ]
    }
   ],
   "source": [
    "fig = plt.figure() \n",
    "plt.title(\"Confronto MC [\" + str(M) + \" simulazioni] e SGD [\" + str(m) + \" passi]\") \n",
    "plt.xlabel(\"Step temporali\") \n",
    "plt.ylabel(\"Evoluzione di E[sen(X)]\") \n",
    "# plt.ylim(0.4, 0.9) # se non c'è il grafico è molto zoomato\n",
    "plt.plot(np.dot(a1, g), label='(La)1(t)')\n",
    "plt.plot(gamma1, label='gamma1')\n",
    "plt.legend()\n",
    "plt.show() "
   ]
  },
  {
   "cell_type": "markdown",
   "id": "0abf4e2c",
   "metadata": {},
   "source": [
    "Grafico dell'approssimazione di $\\mathbb{E}[cos(X)]$."
   ]
  },
  {
   "cell_type": "code",
   "execution_count": 15,
   "id": "bc37bf68",
   "metadata": {},
   "outputs": [
    {
     "data": {
      "image/png": "[encoded data removed]",
      "text/plain": [
       "<Figure size 640x480 with 1 Axes>"
      ]
     },
     "metadata": {},
     "output_type": "display_data"
    }
   ],
   "source": [
    "fig = plt.figure() \n",
    "plt.title(\"Confronto MC [\" + str(M) + \" simulazioni] e SGD [\" + str(m) + \" passi]\") \n",
    "plt.xlabel(\"Step temporali\") \n",
    "plt.ylabel(\"Evoluzione di E[cos(X)]\") \n",
    "# plt.ylim(0.4, 0.9) # se non c'è il grafico è molto zoomato\n",
    "plt.plot(np.dot(a2, g), label='(La)2(t)')\n",
    "plt.plot(gamma2, label='gamma2')\n",
    "plt.legend()\n",
    "plt.show() "
   ]
  },
  {
   "cell_type": "code",
   "execution_count": null,
   "id": "1e3f23fb",
   "metadata": {},
   "outputs": [],
   "source": []
  }
 ],
 "metadata": {
  "kernelspec": {
   "display_name": "Python 3 (ipykernel)",
   "language": "python",
   "name": "python3"
  },
  "language_info": {
   "codemirror_mode": {
    "name": "ipython",
    "version": 3
   },
   "file_extension": ".py",
   "mimetype": "text/x-python",
   "name": "python",
   "nbconvert_exporter": "python",
   "pygments_lexer": "ipython3",
   "version": "3.9.13"
  }
 },
 "nbformat": 4,
 "nbformat_minor": 5
}
