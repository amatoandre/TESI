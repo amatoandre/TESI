{
 "cells": [
  {
   "cell_type": "code",
   "execution_count": 1,
   "id": "a4d440a9",
   "metadata": {
    "scrolled": true
   },
   "outputs": [
    {
     "name": "stdout",
     "output_type": "stream",
     "text": [
      "[[105.04757741 104.2719171  104.80629562 103.14868739 106.30586308\n",
      "  104.10638461 103.77602317 104.81899626 102.3134681  106.19954119]]\n",
      "[-0.34713544]\n"
     ]
    }
   ],
   "source": [
    "# -*- coding: utf-8 -*-\n",
    "\"\"\"\n",
    "Created on Thu Jan 19 12:13:37 2023\n",
    "@author: Andrea\n",
    "\"\"\"\n",
    "import math\n",
    "import numpy as np \n",
    "import numpy.matlib as ml\n",
    "\n",
    "# Metodo di Eulero X Metodo Monte Carlo\n",
    "\n",
    "# N: numero di iterazioni (steps temporali)\n",
    "# M: numero di simulazioni in ogni istante\n",
    "# T: istante finale\n",
    "# mu: funzione di Drift\n",
    "# sigma: funzione di Diffuzione\n",
    "# equazione dXt = ( alfa cos(Xt) - beta sen(Xt) ) dt + sigma dWt\n",
    "# voglio MC di E[sen(Xt)]\n",
    "# -- NB --\n",
    "# usa OPERAZIONI VETTORIALI\n",
    "# usa f1 per step di Eulero e f2 per il ciclo for\n",
    "# -- --\n",
    "\n",
    "\n",
    "def eulero(c1, c2, sigma, h, M, X):\n",
    "    W = np.random.normal(0, 1, (1, M)) \n",
    "    drift = c1 * np.cos(X) - c2 * np.sin(X) \n",
    "    diffusione = sigma \n",
    "    X = X + drift * h + diffusione * math.sqrt(h) * W \n",
    "    \n",
    "    return X\n",
    "\n",
    "\n",
    "def monte_carlo(M, Y):\n",
    "    X = sum(Y) / M\n",
    "    return X\n",
    "\n",
    "if __name__ == \"__main__\":\n",
    "    \n",
    "    # Parametri in Input\n",
    "    c1 = 1\n",
    "    c2 = 0\n",
    "    sigma = 0.5\n",
    "    T = 10\n",
    "    N = 2\n",
    "    M = 10\n",
    "    X0 = 100\n",
    "    \n",
    "    # Richiamo funzione\n",
    "    h = T / N\n",
    "    X = ml.repmat(X0, 1, M)\n",
    "    \n",
    "    for i in range(N):\n",
    "        XT = eulero(c1, c2, sigma, h, M, X)\n",
    "        \n",
    "        YT = c1 * np.sin(XT) + c2 * np.cos(XT)\n",
    "        YT = YT.transpose()\n",
    "        F = monte_carlo(M, YT)\n",
    "    print(XT)\n",
    "    print(F)"
   ]
  },
  {
   "cell_type": "raw",
   "id": "6be44e9f",
   "metadata": {},
   "source": [
    "ciao"
   ]
  },
  {
   "cell_type": "code",
   "execution_count": null,
   "id": "887f6072",
   "metadata": {},
   "outputs": [],
   "source": []
  }
 ],
 "metadata": {
  "kernelspec": {
   "display_name": "Python 3 (ipykernel)",
   "language": "python",
   "name": "python3"
  },
  "language_info": {
   "codemirror_mode": {
    "name": "ipython",
    "version": 3
   },
   "file_extension": ".py",
   "mimetype": "text/x-python",
   "name": "python",
   "nbconvert_exporter": "python",
   "pygments_lexer": "ipython3",
   "version": "3.9.13"
  }
 },
 "nbformat": 4,
 "nbformat_minor": 5
}
